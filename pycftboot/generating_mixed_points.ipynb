{
 "cells": [
  {
   "cell_type": "code",
   "execution_count": 8,
   "metadata": {
    "collapsed": true
   },
   "outputs": [],
   "source": [
    "import bootstrap\n",
    "import matplotlib.pyplot as plt\n",
    "import time\n",
    "import datetime\n",
    "import numpy as np\n",
    "from matplotlib.backends.backend_pdf import PdfPages\n",
    "from revised_ising_class import *"
   ]
  },
  {
   "cell_type": "code",
   "execution_count": 9,
   "metadata": {
    "collapsed": true
   },
   "outputs": [],
   "source": [
    "sig_step = 0.0001/13\n",
    "eps_step = 0.001/13\n",
    "\n",
    "v1 = [0, eps_step]\n",
    "v2 = [sig_step, sig_step]\n",
    "\n",
    "start = [0.51799, 1.411]\n",
    "info = [[3, [1,1]], [4, [1,1]], [5, [0,1]], [7, [1,1]], [7, [1,1]], [8, [1,1]], [9, [1,1]], [10, [1,1]], [11, [1,1]], [11, [0,1]], [13, [1,1]], [14, [1,1]], [14, [1,1]], [15, [1,1]], [15, [1,1]], [16, [1,1]], [16, [1,1]], [17, [1,1]], [17, [1,1]], [18, [1,1]], [18, [1,1]], [18, [1,2]], [18, [1,1]], [18, [1,1]], [18, [1,1]], [19, [1,2]], [18, [1,1]], [18, [1,1]], [19, [1,1]], [19, [1,2]], [18, [1,1]], [19, [1,1]], [19, [1,2]], [18, [1,1]], [18, [1,1]], [19, [1,2]], [18, [1,1]], [18, [1,2]], [17, [1,1]], [17, [1,2]], [17, [1,2]], [16, [1,2]], [15, [1,2]], [14, [1,2]], [13, [1,2]], [12, [0,0]]]\n",
    "\n",
    "sig_start = start[0]\n",
    "eps_start = start[1]\n",
    "\n",
    "sig_values = []\n",
    "eps_values = []\n",
    "\n",
    "row_lists = []\n",
    "sig_row_start = sig_start\n",
    "eps_row_start = eps_start\n",
    "sigs = []\n",
    "eps = []\n",
    "for i in range(len(info)):\n",
    "\trow_lists.append([])\n",
    "\t# sig_values.append(sig_row_start)\n",
    "\t# eps_values.append(eps_row_start)\n",
    "\tfor points in range(info[i][0] + 1):\n",
    "\t\tsigs.append(sig_row_start + points*v2[0])\n",
    "\t\teps.append(eps_row_start + points*v2[1])\n",
    "\t\tsig_values.append(sig_row_start + points*v2[0])\n",
    "\t\teps_values.append(eps_row_start + points*v2[1])\n",
    "\trow_lists[i].append(sigs)\n",
    "\trow_lists[i].append(eps)\n",
    "\tsigs = []\n",
    "\teps = []\n",
    "\t# Alter the starting position of the next row.\n",
    "\tif i!= len(info) -1:\n",
    "\t\tsig_row_start += (info[i][1][0] * v1[0] + info[i][1][1] * v2[0])\n",
    "\t\teps_row_start += (info[i][1][0] * v1[1] + info[i][1][1] * v2[1])"
   ]
  },
  {
   "cell_type": "code",
   "execution_count": 10,
   "metadata": {
    "collapsed": true
   },
   "outputs": [],
   "source": [
    "plt.plot(sig_values, eps_values, 'r+')\n",
    "plt.ylim(1.41,1.415)\n",
    "plt.xlim(0.5179, 0.5186);"
   ]
  },
  {
   "cell_type": "code",
   "execution_count": 11,
   "metadata": {},
   "outputs": [
    {
     "data": {
      "image/png": "[encoded data removed]",
      "text/plain": [
       "<Figure size 432x288 with 1 Axes>"
      ]
     },
     "metadata": {},
     "output_type": "display_data"
    }
   ],
   "source": [
    "plt.show();"
   ]
  },
  {
   "cell_type": "code",
   "execution_count": 12,
   "metadata": {
    "collapsed": true
   },
   "outputs": [],
   "source": [
    "def components(nmax):\n",
    "    return nmax**2 + (nmax/2) - (1/2)"
   ]
  },
  {
   "cell_type": "code",
   "execution_count": 13,
   "metadata": {
    "collapsed": true
   },
   "outputs": [],
   "source": [
    "mixed = MixedCorrelator()"
   ]
  },
  {
   "cell_type": "code",
   "execution_count": 14,
   "metadata": {
    "collapsed": true
   },
   "outputs": [],
   "source": [
    "mixed.point_file = \"longest_island_point\""
   ]
  },
  {
   "cell_type": "code",
   "execution_count": 15,
   "metadata": {
    "collapsed": true
   },
   "outputs": [],
   "source": [
    "bootstrap.prec = 800"
   ]
  },
  {
   "cell_type": "code",
   "execution_count": 16,
   "metadata": {
    "collapsed": true
   },
   "outputs": [],
   "source": [
    "key = [60, 50, 5, 7]"
   ]
  },
  {
   "cell_type": "code",
   "execution_count": 17,
   "metadata": {},
   "outputs": [
    {
     "data": {
      "text/plain": [
       "[[0.51799, 0.5179976923076922, 0.5180053846153846, 0.5180130769230769],\n",
       " [1.411, 1.4110076923076924, 1.4110153846153846, 1.411023076923077]]"
      ]
     },
     "execution_count": 17,
     "metadata": {},
     "output_type": "execute_result"
    }
   ],
   "source": [
    "row_lists[0]"
   ]
  },
  {
   "cell_type": "code",
   "execution_count": 18,
   "metadata": {},
   "outputs": [],
   "source": [
    "point = [row_lists[0][0][0], row_lists[0][1][0]]"
   ]
  },
  {
   "cell_type": "code",
   "execution_count": 19,
   "metadata": {},
   "outputs": [
    {
     "data": {
      "text/plain": [
       "[0.51799, 1.411]"
      ]
     },
     "execution_count": 19,
     "metadata": {},
     "output_type": "execute_result"
    }
   ],
   "source": [
    "point"
   ]
  },
  {
   "cell_type": "code",
   "execution_count": 20,
   "metadata": {
    "collapsed": true
   },
   "outputs": [],
   "source": [
    "mixed.sig_range = point[0]\n",
    "mixed.eps_range = point[1]"
   ]
  },
  {
   "cell_type": "code",
   "execution_count": null,
   "metadata": {},
   "outputs": [],
   "source": [
    "mixed.determine_points(key)"
   ]
  },
  {
   "cell_type": "code",
   "execution_count": 22,
   "metadata": {
    "collapsed": true
   },
   "outputs": [],
   "source": [
    "sig_step = 0.0005\n",
    "eps_step = 0.005\n",
    "\n",
    "v1 = [0, eps_step]\n",
    "v2 = [sig_step, sig_step]\n",
    "\n",
    "start = [0.516, 1.39]\n",
    "stop = [0.523, 1.44]\n",
    "\n",
    "sig_range = np.arange(start[0], stop[0] + sig_step, sig_step)\n",
    "eps_range = np.arange(start[1], stop[1] + eps_step, eps_step)\n",
    "#start = [0.51799, 1.411]\n",
    "# info = [[3, [1,1]], [4, [1,1]], [5, [0,1]], [7, [1,1]], [7, [1,1]], [8, [1,1]], [9, [1,1]], [10, [1,1]], [11, [1,1]], [11, [0,1]], [13, [1,1]], [14, [1,1]], [14, [1,1]], [15, [1,1]], [15, [1,1]], [16, [1,1]], [16, [1,1]], [17, [1,1]], [17, [1,1]], [18, [1,1]], [18, [1,1]], [18, [1,2]], [18, [1,1]], [18, [1,1]], [18, [1,1]], [19, [1,2]], [18, [1,1]], [18, [1,1]], [19, [1,1]], [19, [1,2]], [18, [1,1]], [19, [1,1]], [19, [1,2]], [18, [1,1]], [18, [1,1]], [19, [1,2]], [18, [1,1]], [18, [1,2]], [17, [1,1]], [17, [1,2]], [17, [1,2]], [16, [1,2]], [15, [1,2]], [14, [1,2]], [13, [1,2]], [12, [0,0]]]\n",
    "\n",
    "sig_start = start[0]\n",
    "eps_start = start[1]\n",
    "\n",
    "sig_values = []\n",
    "eps_values = []\n",
    "\n",
    "row_lists = []\n",
    "sig_row_start = sig_start\n",
    "eps_row_start = eps_start\n",
    "sigs = []\n",
    "eps = []\n",
    "for r in range(len(eps_range)):\n",
    "\trow_lists.append([])\n",
    "\tfor s in range(len(sig_range)):\n",
    "\t\tsigs.append(sig_row_start + s * v2[0])\n",
    "\t\teps.append(eps_row_start + s * v2[1])\n",
    "\t\tsig_values.append(sig_row_start + s * v2[0])\n",
    "\t\teps_values.append(eps_row_start + s * v2[1])\n",
    "\trow_lists[r].append(sigs)\n",
    "\trow_lists[r].append(eps)\n",
    "\tsigs = []\n",
    "\teps = []\n",
    "\t# Alter the starting position of the next row.\n",
    "\tif i!= len(eps_range) -1:\n",
    "\t\t#sig_row_start += (info[i][1][0] * v1[0] + info[i][1][1] * v2[0])\n",
    "\t\teps_row_start += v1[1]"
   ]
  },
  {
   "cell_type": "code",
   "execution_count": 25,
   "metadata": {},
   "outputs": [
    {
     "data": {
      "image/png": "[encoded data removed]",
      "text/plain": [
       "<Figure size 432x288 with 1 Axes>"
      ]
     },
     "metadata": {},
     "output_type": "display_data"
    }
   ],
   "source": [
    "plt.plot(sig_values, eps_values, 'r+')\n",
    "plt.show()"
   ]
  },
  {
   "cell_type": "code",
   "execution_count": null,
   "metadata": {
    "collapsed": true
   },
   "outputs": [],
   "source": []
  }
 ],
 "metadata": {
  "kernelspec": {
   "display_name": "Python 3",
   "language": "python",
   "name": "python3"
  },
  "language_info": {
   "codemirror_mode": {
    "name": "ipython",
    "version": 3
   },
   "file_extension": ".py",
   "mimetype": "text/x-python",
   "name": "python",
   "nbconvert_exporter": "python",
   "pygments_lexer": "ipython3",
   "version": "3.6.3"
  }
 },
 "nbformat": 4,
 "nbformat_minor": 2
}
