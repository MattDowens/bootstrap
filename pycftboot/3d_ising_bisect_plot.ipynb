{
 "cells": [
  {
   "cell_type": "code",
   "execution_count": null,
   "metadata": {
    "scrolled": false
   },
   "outputs": [
    {
     "name": "stdout",
     "output_type": "stream",
     "text": [
      "Trying 1.3\n",
      "Trying 1.1\n",
      "Trying 1.0\n",
      "Trying 0.95\n",
      "Trying 0.925\n",
      "Trying 0.9125000000000001\n",
      "Trying 0.90625\n",
      "Trying 1.3\n",
      "Trying 1.1\n",
      "Trying 1.0\n",
      "Trying 1.03203125\n",
      "Trying 1.053802490234375\n",
      "Trying 1.0686001300811767\n",
      "Trying 1.0786579009145498\n",
      "Trying 1.085494042027858\n",
      "Trying 1.0901404816908098\n",
      "Trying 1.3\n",
      "Trying 1.1\n",
      "Trying 1.1640625\n",
      "Trying 1.1205200195312501\n",
      "Trying 1.1344672203063966\n",
      "Trying 1.143946958333254\n",
      "Trying 1.1503902177733836\n",
      "Trying 1.3\n",
      "Trying 1.1\n",
      "Trying 1.1640625\n"
     ]
    }
   ],
   "source": [
    "import bootstrap_old\n",
    "import matplotlib.pyplot as plt\n",
    "\n",
    "bootstrap_old.cutoff=1e-10\n",
    "dim=3\n",
    "k_max=20\n",
    "l_max=15\n",
    "n_max=4\n",
    "m_max=2\n",
    "\n",
    "def find_bounds(table1,table2,lower,upper,tol,channel):\n",
    "    dim_phi=0.5\n",
    "    x=[]\n",
    "    y=[]\n",
    "    while dim_phi<0.6:\n",
    "        sdp=bootstrap_old.SDP(dim_phi,table2)\n",
    "        result=sdp.bisect(lower,upper,tol,channel)\n",
    "        x.append(dim_phi)\n",
    "        y.append(result)\n",
    "        dim_phi+=0.002\n",
    "    plt.plot(x,y)\n",
    "\n",
    "tab1=bootstrap_old.ConformalBlockTable(dim,k_max,l_max,m_max,n_max)\n",
    "tab2=bootstrap_old.ConvolvedBlockTable(tab1)\n",
    "\n",
    "l=0.9\n",
    "u=1.7\n",
    "t=0.01\n",
    "c=0\n",
    "\n",
    "find_bounds(tab1,tab2,l,u,t,c)\n",
    "\n",
    "plt.xlabel('$\\Delta_{\\sigma}$')\n",
    "plt.ylabel('$\\Delta_{\\epsilon}$')\n",
    "plt.show()"
   ]
  }
 ],
 "metadata": {
  "kernelspec": {
   "display_name": "Python 3",
   "language": "python",
   "name": "python3"
  },
  "language_info": {
   "codemirror_mode": {
    "name": "ipython",
    "version": 3
   },
   "file_extension": ".py",
   "mimetype": "text/x-python",
   "name": "python",
   "nbconvert_exporter": "python",
   "pygments_lexer": "ipython3",
   "version": "3.7.0"
  }
 },
 "nbformat": 4,
 "nbformat_minor": 2
}
