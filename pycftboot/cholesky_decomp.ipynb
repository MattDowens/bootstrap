{
 "cells": [
  {
   "cell_type": "code",
   "execution_count": 1,
   "metadata": {
    "collapsed": true
   },
   "outputs": [],
   "source": [
    "import bootstrap\n",
    "import subprocess\n",
    "import matplotlib.pyplot as plt\n",
    "import time\n",
    "import datetime\n",
    "import numpy as np\n",
    "from matplotlib.backends.backend_pdf import PdfPages\n",
    "from new_ising_class import *\n",
    "import math\n",
    "import mpmath"
   ]
  },
  {
   "cell_type": "code",
   "execution_count": 2,
   "metadata": {
    "collapsed": true
   },
   "outputs": [],
   "source": [
    "sig_step = 0.0005\n",
    "eps_step = 0.005\n",
    "v1 = [0, eps_step]\n",
    "v2 = [sig_step, sig_step]\n",
    "start = [0.516, 1.39]\n",
    "stop = [0.523, 1.44]\n",
    "sig_range = np.arange(start[0], stop[0] + sig_step, sig_step)\n",
    "eps_range = np.arange(start[1], stop[1] + eps_step, eps_step)\n",
    "sig_start = start[0]\n",
    "eps_start = start[1]\n",
    "sig_values = []\n",
    "eps_values = []\n",
    "row_lists = []\n",
    "sig_row_start = sig_start\n",
    "eps_row_start = eps_start\n",
    "sigs = []\n",
    "eps = []\n",
    "for r in range(len(eps_range)):\n",
    "    row_lists.append([])\n",
    "    for s in range(len(sig_range)):\n",
    "        sigs.append(sig_row_start + s * v2[0])\n",
    "        eps.append(eps_row_start + s * v2[1])\n",
    "        sig_values.append(sig_row_start + s * v2[0])\n",
    "        eps_values.append(eps_row_start + s * v2[1])\n",
    "    row_lists[r].append(sigs)\n",
    "    row_lists[r].append(eps)\n",
    "    sigs = []\n",
    "    eps = []\n",
    "    # Alter the starting position of the next row.\n",
    "    if r!= len(eps_range) - 1:\n",
    "        #sig_row_start += (info[i][1][0] * v1[0] + info[i][1][1] * v2[0])\n",
    "        eps_row_start += v1[1]"
   ]
  },
  {
   "cell_type": "code",
   "execution_count": 3,
   "metadata": {
    "collapsed": true
   },
   "outputs": [],
   "source": [
    "key = [60, 50, 5, 7]\n",
    "row_index = 4"
   ]
  },
  {
   "cell_type": "code",
   "execution_count": 5,
   "metadata": {},
   "outputs": [],
   "source": [
    "mixed = MixedCorrelator()\n",
    "bootstrap.prec = 800\n",
    "mixed.point_file = key.__str__()"
   ]
  },
  {
   "cell_type": "code",
   "execution_count": 6,
   "metadata": {
    "collapsed": true
   },
   "outputs": [],
   "source": [
    "bootstrap.chol_tol = 1e-200"
   ]
  },
  {
   "cell_type": "code",
   "execution_count": 8,
   "metadata": {},
   "outputs": [
    {
     "data": {
      "text/plain": [
       "[[0.516,\n",
       "  0.5165,\n",
       "  0.517,\n",
       "  0.5175,\n",
       "  0.518,\n",
       "  0.5185,\n",
       "  0.519,\n",
       "  0.5195,\n",
       "  0.52,\n",
       "  0.5205,\n",
       "  0.521,\n",
       "  0.5215,\n",
       "  0.522,\n",
       "  0.5225,\n",
       "  0.523],\n",
       " [1.4099999999999995,\n",
       "  1.4104999999999994,\n",
       "  1.4109999999999994,\n",
       "  1.4114999999999995,\n",
       "  1.4119999999999995,\n",
       "  1.4124999999999994,\n",
       "  1.4129999999999994,\n",
       "  1.4134999999999995,\n",
       "  1.4139999999999995,\n",
       "  1.4144999999999994,\n",
       "  1.4149999999999994,\n",
       "  1.4154999999999995,\n",
       "  1.4159999999999995,\n",
       "  1.4164999999999994,\n",
       "  1.4169999999999994]]"
      ]
     },
     "execution_count": 8,
     "metadata": {},
     "output_type": "execute_result"
    }
   ],
   "source": [
    "row_lists[4]"
   ]
  },
  {
   "cell_type": "code",
   "execution_count": null,
   "metadata": {},
   "outputs": [],
   "source": [
    "reference_sdp = None\n",
    "for i in range(len(row_lists[row_index])):\n",
    "    sig = row_lists[row_index][0][i]\n",
    "    eps = row_lists[row_index][1][i]\n",
    "\n",
    "    global start_time\n",
    "    start_time = time.time()\n",
    "    global start_cpu\n",
    "    start_cpu = time.clock()\n",
    "    g_tab1 = bootstrap.ConformalBlockTable(0, 0, 0, 0, 0, name = \"tab_0_0\")\n",
    "    g_tab2 = bootstrap.ConformalBlockTable(0, 0, 0, 0, 0, name = \"tab_0.894_-0.894\")\n",
    "    g_tab3 = bootstrap.ConformalBlockTable(0, 0, 0, 0, 0, name = \"tab_-0.894_-0.894\")\n",
    "    f_tab1a = bootstrap.ConvolvedBlockTable(g_tab1)\n",
    "    f_tab1s = bootstrap.ConvolvedBlockTable(g_tab1, symmetric = True)\n",
    "    f_tab2a = bootstrap.ConvolvedBlockTable(g_tab2)\n",
    "    f_tab2s = bootstrap.ConvolvedBlockTable(g_tab2, symmetric = True)\n",
    "    f_tab3 = bootstrap.ConvolvedBlockTable(g_tab3)\n",
    "    tab_list = [f_tab1a, f_tab1s, f_tab2a, f_tab2s, f_tab3]\n",
    "    global now\n",
    "    global now_clock\n",
    "    global CB_time\n",
    "    global CB_cpu\n",
    "    now = time.time()\n",
    "    now_clock = time.clock()\n",
    "    CB_time = datetime.timedelta(seconds = int(now - start_time))\n",
    "    CB_cpu = datetime.timedelta(seconds = int(now_clock - start_cpu))\n",
    "    print(\"The calculation of the required conformal blocks has successfully completed.\")\n",
    "    print(\"Time taken: \" + str(CB_time))\n",
    "    print(\"CPU_time: \" + str(CB_cpu))\n",
    "    vec3 = [[0, 0, 0, 0], [0, 0, 0, 0], [1, 4, 1, 0], [-1, 2, 0, 0], [1, 3, 0, 0]]\n",
    "    vec2 = [[0, 0, 0, 0], [0, 0, 0, 0], [1, 4, 1, 0], [1, 2, 0, 0], [-1, 3, 0, 0]]\n",
    "    m1 = [[[1, 0, 0, 0], [0, 0, 0, 0]], [[0, 0, 0, 0], [0, 0, 0, 0]]]\n",
    "    m2 = [[[0, 0, 0, 0], [0, 0, 0, 0]], [[0, 0, 0, 0], [1, 0, 1, 1]]]\n",
    "    m3 = [[[0, 0, 0, 0], [0, 0, 0, 0]], [[0, 0, 0, 0], [0, 0, 0, 0]]]\n",
    "    m4 = [[[0, 0, 0, 0], [0.5, 0, 0, 1]], [[0.5, 0, 0, 1], [0, 0, 0, 0]]]\n",
    "    m5 = [[[0, 1, 0, 0], [0.5, 1, 0, 1]], [[0.5, 1, 0, 1], [0, 1, 0, 0]]]\n",
    "    vec1 = [m1, m2, m3, m4, m5]\n",
    "    info = [[vec1, 0, \"z2-even-l-even\"], [vec2, 0, \"z2-odd-l-even\"], [vec3, 1, \"z2-odd-l-odd\"]]\n",
    "    \n",
    "    if reference_sdp == None:\n",
    "        sdp = bootstrap.SDP([sig, eps], tab_list, vector_types = info)\n",
    "        reference_sdp = sdp\n",
    "    else:\n",
    "        sdp = bootstrap.SDP([sig, eps], tab_list, vector_types = info, prototype = reference_sdp)\n",
    "    sdp.set_bound([0, \"z2-even-l-even\"], 3)\n",
    "    sdp.set_bound([0, \"z2-odd-l-even\"], 3)\n",
    "    sdp.add_point([0, \"z2-even-l-even\"], eps)\n",
    "    sdp.add_point([0, \"z2-odd-l-even\"], sig)\n",
    "    sdp.set_option(\"maxThreads\", 16)\n",
    "    sdp.set_option(\"dualErrorThreshold\", 1e-15)\n",
    "\n",
    "    print(\"Testing point \" + \"(\" + sig.__str__() + \", \" + eps.__str__() +\")...\")\n",
    "    \n",
    "    name = \"test_SDP\"\n",
    "    obj = [0.0] * len(sdp.table[0][0][0].vector)\n",
    "    sdp.write_xml(obj, sdp.unit, name)\n",
    "    print(os.getpid())\n",
    "    sdpb = subprocess.Popen([\"sdpb\", \"-s\", name + \".xml\", \"--precision=\" + str(bootstrap.prec), \"--findPrimalFeasible\", \"--findDualFeasible\", \"--noFinalCheckpoint\"] + sdp.options)\n",
    "    print(str(os.getppid()))\n",
    "    print(\"Running SDPB. Process ID: \" + str(sdpb.pid))\n",
    "    sdpb.wait()\n",
    "    print(\"SDPB has finished running. RETURN code: \" + str(sdpb.returncode))\n",
    "    output = sdp.read_output(name = name)\n",
    "    terminate_reason = output[\"terminateReason\"]  \n",
    "    result = terminate_reason == \"found primal feasible solution\"\n",
    "\n",
    "    end_time = time.time()\n",
    "    end_cpu = time.clock()\n",
    "    global sdp_time\n",
    "    global sdp_cpu\n",
    "    sdp_time = datetime.timedelta(seconds = int(end_time - bootstrap.now2))\n",
    "    sdp_cpu = datetime.timedelta(seconds = int(end_cpu - bootstrap.now2_clock))\n",
    "    run_time = datetime.timedelta(seconds = int(end_time - start_time))\n",
    "    cpu_time = datetime.timedelta(seconds = int(end_cpu - start_cpu))\n",
    "\n",
    "    print(\"The SDP has finished running.\")\n",
    "    print(\"Time taken: \" + str(sdp_time))\n",
    "    print(\"CPU_time: \" + str(sdp_cpu))\n",
    "    print(\"See point file for more information. Check the times are consistent\")\n",
    "\n",
    "    point = Point(*([sig, eps] + key + [result, run_time, cpu_time, CB_time, CB_cpu, bootstrap.xml_time, bootstrap.xml_cpu, sdp_time, sdp_cpu]))\n",
    "    point.save(mixed.point_file)"
   ]
  }
 ],
 "metadata": {
  "kernelspec": {
   "display_name": "Python 3",
   "language": "python",
   "name": "python3"
  },
  "language_info": {
   "codemirror_mode": {
    "name": "ipython",
    "version": 3
   },
   "file_extension": ".py",
   "mimetype": "text/x-python",
   "name": "python",
   "nbconvert_exporter": "python",
   "pygments_lexer": "ipython3",
   "version": "3.7.0"
  }
 },
 "nbformat": 4,
 "nbformat_minor": 2
}
