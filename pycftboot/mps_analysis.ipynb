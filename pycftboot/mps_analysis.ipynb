{
 "cells": [
  {
   "cell_type": "code",
   "execution_count": null,
   "metadata": {
    "collapsed": true
   },
   "outputs": [],
   "source": [
    "import bootstrap\n",
    "import subprocess\n",
    "import matplotlib.pyplot as plt\n",
    "import time\n",
    "import datetime\n",
    "import numpy as np\n",
    "from matplotlib.backends.backend_pdf import PdfPages\n",
    "from new_ising_class import *\n",
    "import math"
   ]
  },
  {
   "cell_type": "code",
   "execution_count": 2,
   "metadata": {
    "collapsed": true
   },
   "outputs": [],
   "source": [
    "mixed = MixedCorrelator()"
   ]
  },
  {
   "cell_type": "code",
   "execution_count": 3,
   "metadata": {},
   "outputs": [],
   "source": [
    "exec(open(\"mps_results\" + \".py\").read())"
   ]
  },
  {
   "cell_type": "code",
   "execution_count": 4,
   "metadata": {},
   "outputs": [
    {
     "data": {
      "text/plain": [
       "3417"
      ]
     },
     "execution_count": 4,
     "metadata": {},
     "output_type": "execute_result"
    }
   ],
   "source": [
    "len(mixed.point_table)"
   ]
  },
  {
   "cell_type": "code",
   "execution_count": 5,
   "metadata": {},
   "outputs": [],
   "source": [
    "def compute_n(kmax):\n",
    "    return math.floor(kmax**(0.5))\n",
    "\n",
    "keys = []\n",
    "for i in range(15, 61):\n",
    "    for j in range(0, 11, 1):\n",
    "        if i<50:\n",
    "            key = [i, i, compute_n(i)-2, compute_n(i)]\n",
    "        else:\n",
    "            key = [i, 50, compute_n(i)-2, compute_n(i)]\n",
    "    keys.append(key)"
   ]
  },
  {
   "cell_type": "code",
   "execution_count": 6,
   "metadata": {},
   "outputs": [],
   "source": [
    "keys;"
   ]
  },
  {
   "cell_type": "code",
   "execution_count": null,
   "metadata": {},
   "outputs": [],
   "source": [
    "len(keys)"
   ]
  },
  {
   "cell_type": "code",
   "execution_count": null,
   "metadata": {},
   "outputs": [],
   "source": [
    "mixed.grid_table[0].disallowed_points;"
   ]
  },
  {
   "cell_type": "code",
   "execution_count": null,
   "metadata": {
    "collapsed": true
   },
   "outputs": [],
   "source": [
    "ps = [points[0] for points in mixed.grid_table[0].disallowed_points]"
   ]
  },
  {
   "cell_type": "code",
   "execution_count": null,
   "metadata": {},
   "outputs": [],
   "source": [
    "ps;"
   ]
  },
  {
   "cell_type": "code",
   "execution_count": null,
   "metadata": {},
   "outputs": [],
   "source": [
    "t1= mixed.point_table[0].run_time"
   ]
  },
  {
   "cell_type": "code",
   "execution_count": null,
   "metadata": {
    "collapsed": true
   },
   "outputs": [],
   "source": [
    "t2 = time.strftime('%H:%M:%S', t1)"
   ]
  },
  {
   "cell_type": "code",
   "execution_count": null,
   "metadata": {},
   "outputs": [],
   "source": [
    "t1"
   ]
  },
  {
   "cell_type": "code",
   "execution_count": null,
   "metadata": {},
   "outputs": [],
   "source": [
    "keys[0]"
   ]
  },
  {
   "cell_type": "code",
   "execution_count": 7,
   "metadata": {},
   "outputs": [],
   "source": [
    "for key in keys:\n",
    "    points = [point for point in mixed.point_table if [point.kmax, point.lmax, point.mmax, point.nmax] == key]\n",
    "    grid = Grid(*(key + [[], [], datetime.timedelta(hours=0, minutes=0, seconds=0), datetime.timedelta(hours=0, minutes=0, seconds=0)]))\n",
    "    for point in points:\n",
    "        rt1 = point.run_time\n",
    "        rt2 = datetime.timedelta(hours=rt1.tm_hour, minutes=rt1.tm_min, seconds=rt1.tm_sec)\n",
    "        cpu1 = point.cpu_time\n",
    "        cpu2 = datetime.timedelta(hours=cpu1.tm_hour, minutes=cpu1.tm_min, seconds=cpu1.tm_sec)\n",
    "        grid.run_time += rt2\n",
    "        grid.cpu_time += cpu2\n",
    "        if point.allowed == True:\n",
    "            grid.allowed_points.append((point.sig, point.eps))\n",
    "        else:\n",
    "            grid.disallowed_points.append((point.sig, point.eps))\n",
    "    mixed.grid_table.append(grid)"
   ]
  },
  {
   "cell_type": "code",
   "execution_count": 8,
   "metadata": {},
   "outputs": [
    {
     "data": {
      "text/plain": [
       "46"
      ]
     },
     "execution_count": 8,
     "metadata": {},
     "output_type": "execute_result"
    }
   ],
   "source": [
    "len(mixed.grid_table)"
   ]
  },
  {
   "cell_type": "code",
   "execution_count": 9,
   "metadata": {},
   "outputs": [
    {
     "data": {
      "text/plain": [
       "3417"
      ]
     },
     "execution_count": 9,
     "metadata": {},
     "output_type": "execute_result"
    }
   ],
   "source": [
    "len(mixed.point_table)"
   ]
  },
  {
   "cell_type": "code",
   "execution_count": 10,
   "metadata": {},
   "outputs": [
    {
     "ename": "TypeError",
     "evalue": "Tuple or struct_time argument required",
     "output_type": "error",
     "traceback": [
      "\u001b[0;31m---------------------------------------------------------------------------\u001b[0m",
      "\u001b[0;31mTypeError\u001b[0m                                 Traceback (most recent call last)",
      "\u001b[0;32m<ipython-input-10-90074325be2b>\u001b[0m in \u001b[0;36m<module>\u001b[0;34m()\u001b[0m\n\u001b[0;32m----> 1\u001b[0;31m \u001b[0mmixed\u001b[0m\u001b[0;34m.\u001b[0m\u001b[0mplot_grids\u001b[0m\u001b[0;34m(\u001b[0m\u001b[0mkeys\u001b[0m\u001b[0;34m,\u001b[0m \u001b[0;34m\"mps_results\"\u001b[0m\u001b[0;34m,\u001b[0m \u001b[0;36m6\u001b[0m\u001b[0;34m,\u001b[0m \u001b[0;34m(\u001b[0m\u001b[0;36m3\u001b[0m\u001b[0;34m,\u001b[0m\u001b[0;36m2\u001b[0m\u001b[0;34m)\u001b[0m\u001b[0;34m)\u001b[0m\u001b[0;34m\u001b[0m\u001b[0m\n\u001b[0m",
      "\u001b[0;32m~/Dropbox/PhD/bootstrap/pycftboot/new_ising_class.py\u001b[0m in \u001b[0;36mplot_grids\u001b[0;34m(self, keys, file_name, plots_per_page, grid_size)\u001b[0m\n\u001b[1;32m    235\u001b[0m                                                 \u001b[0;34m+\u001b[0m \u001b[0mtable\u001b[0m\u001b[0;34m[\u001b[0m\u001b[0mi\u001b[0m\u001b[0;34m]\u001b[0m\u001b[0;34m.\u001b[0m\u001b[0mmmax\u001b[0m\u001b[0;34m.\u001b[0m\u001b[0m__str__\u001b[0m\u001b[0;34m(\u001b[0m\u001b[0;34m)\u001b[0m \u001b[0;34m+\u001b[0m \u001b[0;34m\", \"\u001b[0m\u001b[0;34m\u001b[0m\u001b[0m\n\u001b[1;32m    236\u001b[0m                                                 \u001b[0;34m+\u001b[0m \u001b[0mtable\u001b[0m\u001b[0;34m[\u001b[0m\u001b[0mi\u001b[0m\u001b[0;34m]\u001b[0m\u001b[0;34m.\u001b[0m\u001b[0mnmax\u001b[0m\u001b[0;34m.\u001b[0m\u001b[0m__str__\u001b[0m\u001b[0;34m(\u001b[0m\u001b[0;34m)\u001b[0m \u001b[0;34m+\u001b[0m \u001b[0;34m']'\u001b[0m\u001b[0;34m\u001b[0m\u001b[0m\n\u001b[0;32m--> 237\u001b[0;31m \t\t\t\t\t\t+ \"     \" + time.strftime('%H:%M:%S', table[i].run_time))\n\u001b[0m\u001b[1;32m    238\u001b[0m                         \u001b[0;31m#else:\u001b[0m\u001b[0;34m\u001b[0m\u001b[0;34m\u001b[0m\u001b[0m\n\u001b[1;32m    239\u001b[0m                         \u001b[0;31m#       plt.plot(allowed_sig, allowed_eps, 'r+')\u001b[0m\u001b[0;34m\u001b[0m\u001b[0;34m\u001b[0m\u001b[0m\n",
      "\u001b[0;31mTypeError\u001b[0m: Tuple or struct_time argument required"
     ]
    }
   ],
   "source": [
    "mixed.plot_grids(keys, \"mps_results\", 6, (3,2))"
   ]
  },
  {
   "cell_type": "code",
   "execution_count": 11,
   "metadata": {},
   "outputs": [],
   "source": [
    "table = mixed.grid_table\n",
    "pdf_pages = PdfPages(\"mps_results\" + \".pdf\")\n",
    "nb_plots = len(table)\n",
    "nb_plots_per_page = 6\n",
    "nb_pages = int(np.ceil(nb_plots / float(nb_plots_per_page)))\n",
    "grid_size=(3,2)\n",
    "row_index = 0\n",
    "for i in range(nb_plots):\n",
    "\n",
    "    if i % nb_plots_per_page == 0:\n",
    "        fig = plt.figure(figsize=(8.27, 11.69), dpi=100)\n",
    "    plt.subplot2grid(grid_size, (row_index, i % grid_size[1]))\n",
    "    if i % grid_size[1] == 1:\n",
    "        row_index += 1\n",
    "    allowed_sig = [points[0] for points in table[i].allowed_points]\n",
    "    allowed_eps = [points[1] for points in table[i].allowed_points]\n",
    "    disallowed_sig = [points[0] for points in table[i].disallowed_points]\n",
    "    disallowed_eps = [points[1] for points in table[i].disallowed_points]\n",
    "    #run_time = time.strftime('%H:%M:%S', mixed.grid_table[i].run_time)\n",
    "    #cpu_time = time.strftime('%H:%M:%S', mixed.grid_table[i].cpu_time)\n",
    "    plt.plot(allowed_sig, allowed_eps, 'r+')\n",
    "    plt.plot(disallowed_sig, disallowed_eps, 'b+')\n",
    "    plt.title('[' + table[i].kmax.__str__() + \", \"\n",
    "                + table[i].lmax.__str__() + \", \"\n",
    "                + table[i].mmax.__str__() + \", \"\n",
    "                + table[i].nmax.__str__() + ']'\n",
    "                + \"     \" + str(table[i].run_time))\n",
    "    if (i + 1) % nb_plots_per_page == 0 or (i + 1) == nb_plots:\n",
    "        plt.tight_layout()\n",
    "        pdf_pages.savefig(fig)\n",
    "        row_index = 0\n",
    "pdf_pages.close()"
   ]
  },
  {
   "cell_type": "code",
   "execution_count": null,
   "metadata": {
    "collapsed": true
   },
   "outputs": [],
   "source": []
  }
 ],
 "metadata": {
  "kernelspec": {
   "display_name": "Python 3",
   "language": "python",
   "name": "python3"
  },
  "language_info": {
   "codemirror_mode": {
    "name": "ipython",
    "version": 3
   },
   "file_extension": ".py",
   "mimetype": "text/x-python",
   "name": "python",
   "nbconvert_exporter": "python",
   "pygments_lexer": "ipython3",
   "version": "3.6.3"
  }
 },
 "nbformat": 4,
 "nbformat_minor": 2
}
