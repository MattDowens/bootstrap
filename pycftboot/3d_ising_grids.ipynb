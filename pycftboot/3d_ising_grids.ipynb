{
 "cells": [
  {
   "cell_type": "code",
   "execution_count": 1,
   "metadata": {
    "scrolled": true
   },
   "outputs": [
    {
     "name": "stderr",
     "output_type": "stream",
     "text": [
      "/usr/local/lib/python3.7/site-packages/ipykernel_launcher.py:9: DeprecationWarning: time.clock has been deprecated in Python 3.3 and will be removed from Python 3.8: use time.perf_counter or time.process_time instead\n",
      "  if __name__ == '__main__':\n",
      "/Users/matthewdowens/Dropbox/PhD/bootstrap/pycftboot/bootstrap_old.py:938: RuntimeWarning: invalid value encountered in subtract\n",
      "  product *= x - (p - shift)\n",
      "/Users/matthewdowens/Dropbox/PhD/bootstrap/pycftboot/bootstrap_old.py:939: RuntimeWarning: invalid value encountered in add\n",
      "  return (base ** (x + shift)) / product\n"
     ]
    },
    {
     "ename": "FileNotFoundError",
     "evalue": "[Errno 2] No such file or directory: 'mySDP.out'",
     "output_type": "error",
     "traceback": [
      "\u001b[0;31m---------------------------------------------------------------------------\u001b[0m",
      "\u001b[0;31mFileNotFoundError\u001b[0m                         Traceback (most recent call last)",
      "\u001b[0;32m<ipython-input-1-d27574849b18>\u001b[0m in \u001b[0;36m<module>\u001b[0;34m()\u001b[0m\n\u001b[1;32m     47\u001b[0m \u001b[0;34m\u001b[0m\u001b[0m\n\u001b[1;32m     48\u001b[0m \u001b[0;31m#Example\u001b[0m\u001b[0;34m\u001b[0m\u001b[0;34m\u001b[0m\u001b[0m\n\u001b[0;32m---> 49\u001b[0;31m \u001b[0mplot_grid\u001b[0m\u001b[0;34m(\u001b[0m\u001b[0mtab2\u001b[0m\u001b[0;34m,\u001b[0m\u001b[0msig_set\u001b[0m\u001b[0;34m,\u001b[0m\u001b[0meps_set\u001b[0m\u001b[0;34m)\u001b[0m\u001b[0;34m\u001b[0m\u001b[0m\n\u001b[0m\u001b[1;32m     50\u001b[0m \u001b[0;34m\u001b[0m\u001b[0m\n\u001b[1;32m     51\u001b[0m \u001b[0;31m#Computing and formatting times (Can shorten this - use Jupyter!)\u001b[0m\u001b[0;34m\u001b[0m\u001b[0;34m\u001b[0m\u001b[0m\n",
      "\u001b[0;32m<ipython-input-1-d27574849b18>\u001b[0m in \u001b[0;36mplot_grid\u001b[0;34m(table, sig_range, eps_range)\u001b[0m\n\u001b[1;32m     35\u001b[0m             \u001b[0msdp\u001b[0m\u001b[0;34m.\u001b[0m\u001b[0mset_bound\u001b[0m\u001b[0;34m(\u001b[0m\u001b[0;36m0\u001b[0m\u001b[0;34m,\u001b[0m\u001b[0mfloat\u001b[0m\u001b[0;34m(\u001b[0m\u001b[0mdim\u001b[0m\u001b[0;34m)\u001b[0m\u001b[0;34m)\u001b[0m\u001b[0;34m\u001b[0m\u001b[0m\n\u001b[1;32m     36\u001b[0m             \u001b[0msdp\u001b[0m\u001b[0;34m.\u001b[0m\u001b[0madd_point\u001b[0m\u001b[0;34m(\u001b[0m\u001b[0;36m0\u001b[0m\u001b[0;34m,\u001b[0m\u001b[0meps\u001b[0m\u001b[0;34m)\u001b[0m\u001b[0;34m\u001b[0m\u001b[0m\n\u001b[0;32m---> 37\u001b[0;31m             \u001b[0mresult\u001b[0m\u001b[0;34m=\u001b[0m\u001b[0msdp\u001b[0m\u001b[0;34m.\u001b[0m\u001b[0miterate\u001b[0m\u001b[0;34m(\u001b[0m\u001b[0;34m)\u001b[0m\u001b[0;34m\u001b[0m\u001b[0m\n\u001b[0m\u001b[1;32m     38\u001b[0m             \u001b[0;32mif\u001b[0m \u001b[0mresult\u001b[0m\u001b[0;34m:\u001b[0m\u001b[0;34m\u001b[0m\u001b[0m\n\u001b[1;32m     39\u001b[0m                 \u001b[0mallowed_sig\u001b[0m\u001b[0;34m.\u001b[0m\u001b[0mappend\u001b[0m\u001b[0;34m(\u001b[0m\u001b[0msig\u001b[0m\u001b[0;34m)\u001b[0m\u001b[0;34m\u001b[0m\u001b[0m\n",
      "\u001b[0;32m~/Dropbox/PhD/bootstrap/pycftboot/bootstrap_old.py\u001b[0m in \u001b[0;36miterate\u001b[0;34m(self, name)\u001b[0m\n\u001b[1;32m   1185\u001b[0m \u001b[0;34m\u001b[0m\u001b[0m\n\u001b[1;32m   1186\u001b[0m         \u001b[0mos\u001b[0m\u001b[0;34m.\u001b[0m\u001b[0mspawnvp\u001b[0m\u001b[0;34m(\u001b[0m\u001b[0mos\u001b[0m\u001b[0;34m.\u001b[0m\u001b[0mP_WAIT\u001b[0m\u001b[0;34m,\u001b[0m \u001b[0msdpb_path\u001b[0m\u001b[0;34m,\u001b[0m \u001b[0;34m[\u001b[0m\u001b[0;34m\"sdpb\"\u001b[0m\u001b[0;34m,\u001b[0m \u001b[0;34m\"-s\"\u001b[0m\u001b[0;34m,\u001b[0m \u001b[0mname\u001b[0m \u001b[0;34m+\u001b[0m \u001b[0;34m\".xml\"\u001b[0m\u001b[0;34m,\u001b[0m \u001b[0;34m\"--precision=\"\u001b[0m \u001b[0;34m+\u001b[0m \u001b[0mstr\u001b[0m\u001b[0;34m(\u001b[0m\u001b[0mprec\u001b[0m\u001b[0;34m)\u001b[0m\u001b[0;34m,\u001b[0m \u001b[0;34m\"--findPrimalFeasible\"\u001b[0m\u001b[0;34m,\u001b[0m \u001b[0;34m\"--findDualFeasible\"\u001b[0m\u001b[0;34m,\u001b[0m \u001b[0;34m\"--noFinalCheckpoint\"\u001b[0m\u001b[0;34m]\u001b[0m \u001b[0;34m+\u001b[0m \u001b[0mself\u001b[0m\u001b[0;34m.\u001b[0m\u001b[0moptions\u001b[0m\u001b[0;34m)\u001b[0m\u001b[0;34m\u001b[0m\u001b[0m\n\u001b[0;32m-> 1187\u001b[0;31m         \u001b[0moutput\u001b[0m \u001b[0;34m=\u001b[0m \u001b[0mself\u001b[0m\u001b[0;34m.\u001b[0m\u001b[0mread_output\u001b[0m\u001b[0;34m(\u001b[0m\u001b[0mname\u001b[0m \u001b[0;34m=\u001b[0m \u001b[0mname\u001b[0m\u001b[0;34m)\u001b[0m\u001b[0;34m\u001b[0m\u001b[0m\n\u001b[0m\u001b[1;32m   1188\u001b[0m \u001b[0;34m\u001b[0m\u001b[0m\n\u001b[1;32m   1189\u001b[0m         \u001b[0mterminate_reason\u001b[0m \u001b[0;34m=\u001b[0m \u001b[0moutput\u001b[0m\u001b[0;34m[\u001b[0m\u001b[0;34m\"terminateReason\"\u001b[0m\u001b[0;34m]\u001b[0m\u001b[0;34m\u001b[0m\u001b[0m\n",
      "\u001b[0;32m~/Dropbox/PhD/bootstrap/pycftboot/bootstrap_old.py\u001b[0m in \u001b[0;36mread_output\u001b[0;34m(self, name)\u001b[0m\n\u001b[1;32m   1158\u001b[0m         \"\"\"\n\u001b[1;32m   1159\u001b[0m         \u001b[0mret\u001b[0m \u001b[0;34m=\u001b[0m \u001b[0;34m{\u001b[0m\u001b[0;34m}\u001b[0m\u001b[0;34m\u001b[0m\u001b[0m\n\u001b[0;32m-> 1160\u001b[0;31m         \u001b[0mout_file\u001b[0m \u001b[0;34m=\u001b[0m \u001b[0mopen\u001b[0m\u001b[0;34m(\u001b[0m\u001b[0mname\u001b[0m \u001b[0;34m+\u001b[0m \u001b[0;34m\".out\"\u001b[0m\u001b[0;34m,\u001b[0m \u001b[0;34m'r'\u001b[0m\u001b[0;34m)\u001b[0m\u001b[0;34m\u001b[0m\u001b[0m\n\u001b[0m\u001b[1;32m   1161\u001b[0m         \u001b[0;32mfor\u001b[0m \u001b[0mline\u001b[0m \u001b[0;32min\u001b[0m \u001b[0mout_file\u001b[0m\u001b[0;34m:\u001b[0m\u001b[0;34m\u001b[0m\u001b[0m\n\u001b[1;32m   1162\u001b[0m             \u001b[0;34m(\u001b[0m\u001b[0mkey\u001b[0m\u001b[0;34m,\u001b[0m \u001b[0mdelimiter\u001b[0m\u001b[0;34m,\u001b[0m \u001b[0mvalue\u001b[0m\u001b[0;34m)\u001b[0m \u001b[0;34m=\u001b[0m \u001b[0mline\u001b[0m\u001b[0;34m.\u001b[0m\u001b[0mpartition\u001b[0m\u001b[0;34m(\u001b[0m\u001b[0;34m\" = \"\u001b[0m\u001b[0;34m)\u001b[0m\u001b[0;34m\u001b[0m\u001b[0m\n",
      "\u001b[0;31mFileNotFoundError\u001b[0m: [Errno 2] No such file or directory: 'mySDP.out'"
     ]
    }
   ],
   "source": [
    "import bootstrap_old\n",
    "import matplotlib.pyplot as plt\n",
    "import time\n",
    "import datetime\n",
    "import numpy as np\n",
    "\n",
    "#Start timing\n",
    "start_time=time.time()\n",
    "start_cpu=time.clock()\n",
    "\n",
    "#Parameters for SDPB\n",
    "bootstrap_old.cutoff=1e-10\n",
    "dim=3\n",
    "k_max=7\n",
    "l_max=15\n",
    "n_max=4\n",
    "m_max=2\n",
    "\n",
    "#Initializing conformal and convolved conformal blocks\n",
    "tab1=bootstrap_old.ConformalBlockTable(dim,k_max,l_max,m_max,n_max)\n",
    "tab2=bootstrap_old.ConvolvedBlockTable(tab1)\n",
    "\n",
    "#There is a problem with using arrays here\n",
    "sig_set=np.arange(0.5,0.85,0.05)\n",
    "eps_set=np.arange(1.0,2.2,0.2)\n",
    "#Plots all allowed points in a coarse grid\n",
    "def plot_grid(table,sig_range,eps_range):\n",
    "    allowed_sig=[]\n",
    "    allowed_eps=[]\n",
    "    disallowed_sig=[]\n",
    "    disallowed_eps=[]\n",
    "    for sig in sig_set:\n",
    "        for eps in eps_set:\n",
    "            sdp=bootstrap_old.SDP(sig,table)\n",
    "            sdp.set_bound(0,float(dim))\n",
    "            sdp.add_point(0,eps)\n",
    "            result=sdp.iterate()\n",
    "            if result:\n",
    "                allowed_sig.append(sig)\n",
    "                allowed_eps.append(eps)\n",
    "            else:\n",
    "                disallowed_sig.append(sig)\n",
    "                disallowed_eps.append(eps)\n",
    "    plt.plot(allowed_sig,allowed_eps,'r+')\n",
    "    plt.plot(disallowed_sig,disallowed_eps,'b+')\n",
    "    plt.show()\n",
    "\n",
    "#Example\n",
    "plot_grid(tab2,sig_set,eps_set)\n",
    "\n",
    "#Computing and formatting times (Can shorten this - use Jupyter!)\n",
    "end_time=time.time()\n",
    "end_cpu=time.clock()\n",
    "run_time=end_time-start_time\n",
    "cpu_time=end_cpu-start_cpu\n",
    "run_time1=time.gmtime(run_time)\n",
    "run_time2=time.strftime(\"%H:%M:%S\",run_time1)\n",
    "cpu_time1=time.gmtime(cpu_time)\n",
    "cpu_time2=time.strftime(\"%H:%M:%S\",cpu_time1)\n",
    "print(\"Run time \"+run_time2, \"CPU time \"+cpu_time2)"
   ]
  },
  {
   "cell_type": "code",
   "execution_count": null,
   "metadata": {},
   "outputs": [],
   "source": []
  }
 ],
 "metadata": {
  "kernelspec": {
   "display_name": "Python 3",
   "language": "python",
   "name": "python3"
  },
  "language_info": {
   "codemirror_mode": {
    "name": "ipython",
    "version": 3
   },
   "file_extension": ".py",
   "mimetype": "text/x-python",
   "name": "python",
   "nbconvert_exporter": "python",
   "pygments_lexer": "ipython3",
   "version": "3.7.0"
  }
 },
 "nbformat": 4,
 "nbformat_minor": 2
}
