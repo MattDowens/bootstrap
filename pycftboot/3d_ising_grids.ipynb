{
 "cells": [
  {
   "cell_type": "code",
   "execution_count": 3,
   "metadata": {},
   "outputs": [
    {
     "name": "stderr",
     "output_type": "stream",
     "text": [
      "/Users/MatthewDowens/Dropbox/PhD/bootstrap/pycftboot/bootstrap.py:952: RuntimeWarning: invalid value encountered in subtract\n",
      "  product *= x - (p - shift)\n",
      "/Users/MatthewDowens/Dropbox/PhD/bootstrap/pycftboot/bootstrap.py:953: RuntimeWarning: invalid value encountered in add\n",
      "  return (base ** (x + shift)) / product\n"
     ]
    },
    {
     "data": {
      "image/png": "[encoded data removed]",
      "text/plain": [
       "<Figure size 432x288 with 1 Axes>"
      ]
     },
     "metadata": {},
     "output_type": "display_data"
    },
    {
     "name": "stdout",
     "output_type": "stream",
     "text": [
      "Run time 00:03:38 CPU time 00:02:05\n"
     ]
    }
   ],
   "source": [
    "import bootstrap\n",
    "import matplotlib.pyplot as plt\n",
    "import time\n",
    "import datetime\n",
    "import numpy as np\n",
    "\n",
    "#Start timing\n",
    "start_time=time.time()\n",
    "start_cpu=time.clock()\n",
    "\n",
    "#Parameters for SDPB\n",
    "bootstrap.cutoff=1e-10\n",
    "dim=3\n",
    "k_max=7\n",
    "l_max=15\n",
    "n_max=4\n",
    "m_max=2\n",
    "\n",
    "#Initializing conformal and convolved conformal blocks\n",
    "tab1=bootstrap.ConformalBlockTable(dim,k_max,l_max,m_max,n_max)\n",
    "tab2=bootstrap.ConvolvedBlockTable(tab1)\n",
    "\n",
    "#There is a problem with using arrays here\n",
    "sig_set=np.arange(0.5,0.85,0.05)\n",
    "eps_set=np.arange(1.0,2.2,0.2)\n",
    "#Plots all allowed points in a coarse grid\n",
    "def plot_grid(table,sig_range,eps_range):\n",
    "    allowed_sig=[]\n",
    "    allowed_eps=[]\n",
    "    disallowed_sig=[]\n",
    "    disallowed_eps=[]\n",
    "    for sig in sig_set:\n",
    "        for eps in eps_set:\n",
    "            sdp=bootstrap.SDP(sig,table)\n",
    "            sdp.set_bound(0,float(dim))\n",
    "            sdp.add_point(0,eps)\n",
    "            result=sdp.iterate()\n",
    "            if result:\n",
    "                allowed_sig.append(sig)\n",
    "                allowed_eps.append(eps)\n",
    "            else:\n",
    "                disallowed_sig.append(sig)\n",
    "                disallowed_eps.append(eps)\n",
    "    plt.plot(allowed_sig,allowed_eps,'r+')\n",
    "    plt.plot(disallowed_sig,disallowed_eps,'b+')\n",
    "    plt.show()\n",
    "\n",
    "#Example\n",
    "plot_grid(tab2,sig_set,eps_set)\n",
    "\n",
    "#Computing and formatting times (Can shorten this - use Jupyter!)\n",
    "end_time=time.time()\n",
    "end_cpu=time.clock()\n",
    "run_time=end_time-start_time\n",
    "cpu_time=end_cpu-start_cpu\n",
    "run_time1=time.gmtime(run_time)\n",
    "run_time2=time.strftime(\"%H:%M:%S\",run_time1)\n",
    "cpu_time1=time.gmtime(cpu_time)\n",
    "cpu_time2=time.strftime(\"%H:%M:%S\",cpu_time1)\n",
    "print(\"Run time \"+run_time2, \"CPU time \"+cpu_time2)"
   ]
  }
 ],
 "metadata": {
  "kernelspec": {
   "display_name": "Python 3",
   "language": "python",
   "name": "python3"
  },
  "language_info": {
   "codemirror_mode": {
    "name": "ipython",
    "version": 3
   },
   "file_extension": ".py",
   "mimetype": "text/x-python",
   "name": "python",
   "nbconvert_exporter": "python",
   "pygments_lexer": "ipython3",
   "version": "3.6.3"
  }
 },
 "nbformat": 4,
 "nbformat_minor": 2
}
