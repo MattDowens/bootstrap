{
 "cells": [
  {
   "cell_type": "code",
   "execution_count": 1,
   "metadata": {
    "collapsed": true
   },
   "outputs": [],
   "source": [
    "import bootstrap\n",
    "import matplotlib.pyplot as plt\n",
    "import time\n",
    "import datetime\n",
    "import numpy as np\n",
    "from matplotlib.backends.backend_pdf import PdfPages\n",
    "from revised_ising_gap import *"
   ]
  },
  {
   "cell_type": "code",
   "execution_count": 10,
   "metadata": {},
   "outputs": [],
   "source": [
    "ising_gap = IsingGap(True, 'test_save')"
   ]
  },
  {
   "cell_type": "code",
   "execution_count": 11,
   "metadata": {},
   "outputs": [
    {
     "data": {
      "text/plain": [
       "[<revised_ising_gap.Grid at 0x115ed9668>,\n",
       " <revised_ising_gap.Grid at 0x115f6fc50>,\n",
       " <revised_ising_gap.Grid at 0x115f6fb70>,\n",
       " <revised_ising_gap.Grid at 0x115f6f4e0>,\n",
       " <revised_ising_gap.Grid at 0x115f6f278>,\n",
       " <revised_ising_gap.Grid at 0x115f6f7b8>,\n",
       " <revised_ising_gap.Grid at 0x115f6ff98>,\n",
       " <revised_ising_gap.Grid at 0x115f6f860>,\n",
       " <revised_ising_gap.Grid at 0x115f6f3c8>,\n",
       " <revised_ising_gap.Grid at 0x115f6fa90>,\n",
       " <revised_ising_gap.Grid at 0x115f6f128>,\n",
       " <revised_ising_gap.Grid at 0x115f6f9b0>,\n",
       " <revised_ising_gap.Grid at 0x115f6fc18>,\n",
       " <revised_ising_gap.Grid at 0x115f6fba8>,\n",
       " <revised_ising_gap.Grid at 0x115f6fcf8>,\n",
       " <revised_ising_gap.Grid at 0x115f6f630>,\n",
       " <revised_ising_gap.Grid at 0x115f6fbe0>,\n",
       " <revised_ising_gap.Grid at 0x115f6fe10>,\n",
       " <revised_ising_gap.Grid at 0x115f6feb8>,\n",
       " <revised_ising_gap.Grid at 0x115f6fdd8>,\n",
       " <revised_ising_gap.Grid at 0x115f6f940>,\n",
       " <revised_ising_gap.Grid at 0x115f6fef0>,\n",
       " <revised_ising_gap.Grid at 0x115f6fda0>,\n",
       " <revised_ising_gap.Grid at 0x115f6f7f0>]"
      ]
     },
     "execution_count": 11,
     "metadata": {},
     "output_type": "execute_result"
    }
   ],
   "source": [
    "ising_gap.table"
   ]
  },
  {
   "cell_type": "code",
   "execution_count": 19,
   "metadata": {},
   "outputs": [
    {
     "data": {
      "text/plain": [
       "{'dim': 3, 'kmax': 7, 'lmax': 7, 'mmax': 2, 'nmax': 4}"
      ]
     },
     "execution_count": 19,
     "metadata": {},
     "output_type": "execute_result"
    }
   ],
   "source": [
    "ising_gap.inputs"
   ]
  },
  {
   "cell_type": "code",
   "execution_count": 15,
   "metadata": {
    "collapsed": true
   },
   "outputs": [],
   "source": [
    "kmax_range = np.arange(3, 6, 1).tolist()\n",
    "lmax_range = np.arange(5, 8, 1).tolist()\n",
    "mmax_range = np.arange(2, 6, 1).tolist()\n",
    "nmax_range = np.arange(2, 7, 1).tolist()"
   ]
  },
  {
   "cell_type": "code",
   "execution_count": 16,
   "metadata": {},
   "outputs": [
    {
     "data": {
      "text/plain": [
       "[3, 4, 5]"
      ]
     },
     "execution_count": 16,
     "metadata": {},
     "output_type": "execute_result"
    }
   ],
   "source": [
    "kmax_range"
   ]
  },
  {
   "cell_type": "code",
   "execution_count": 17,
   "metadata": {},
   "outputs": [],
   "source": [
    "ising_gap.iterate_parameter('kmax', kmax_range)"
   ]
  },
  {
   "cell_type": "code",
   "execution_count": 18,
   "metadata": {},
   "outputs": [],
   "source": [
    "ising_gap.iterate_parameter('kmax', kmax_range)\n",
    "ising_gap.iterate_parameter('lmax', lmax_range)\n",
    "ising_gap.iterate_parameter('mmax', mmax_range)\n",
    "ising_gap.iterate_parameter('nmax', nmax_range)"
   ]
  },
  {
   "cell_type": "code",
   "execution_count": 47,
   "metadata": {},
   "outputs": [],
   "source": [
    "def measure_convergence(grid):\n",
    "    dim = grid.dim\n",
    "    parameters = [grid.kmax, grid.lmax, grid.mmax, grid.nmax]\n",
    "    grid_value = abs(len(grid.allowed_points) - len(grid.disallowed_points))\n",
    "\n",
    "    convergence = 0\n",
    "    for i in range(len(parameters)):\n",
    "        parameters[i] += 1\n",
    "        if ising_gap.get_grid_index(dim, *parameters) == -1:\n",
    "            print (\"Can't calculate convergence factor. A grid does not exist.\")\n",
    "            break\n",
    "        else:\n",
    "            next_grid = ising_gap.table[ising_gap.get_grid_index(dim, *parameters)]\n",
    "            next_grid_value = abs(len(next_grid.allowed_points) - len(next_grid.disallowed_points))\n",
    "            convergence += abs(grid_value - next_grid_value)\n",
    "        parameters[i] -= 1\n",
    "    convergence /= len(parameters)\n",
    "\n",
    "    return convergence"
   ]
  },
  {
   "cell_type": "code",
   "execution_count": 53,
   "metadata": {
    "collapsed": true
   },
   "outputs": [],
   "source": [
    "grid = ising_gap.table[ising_gap.get_grid_index(3, 4, 6, 4, 5)]"
   ]
  },
  {
   "cell_type": "code",
   "execution_count": 58,
   "metadata": {},
   "outputs": [
    {
     "data": {
      "text/plain": [
       "4"
      ]
     },
     "execution_count": 58,
     "metadata": {},
     "output_type": "execute_result"
    }
   ],
   "source": [
    "grid.nmax"
   ]
  },
  {
   "cell_type": "code",
   "execution_count": 52,
   "metadata": {},
   "outputs": [
    {
     "name": "stdout",
     "output_type": "stream",
     "text": [
      "Grid does not exist.\n"
     ]
    },
    {
     "data": {
      "text/plain": [
       "0.0"
      ]
     },
     "execution_count": 52,
     "metadata": {},
     "output_type": "execute_result"
    }
   ],
   "source": [
    "measure_convergence(grid)"
   ]
  },
  {
   "cell_type": "code",
   "execution_count": null,
   "metadata": {
    "collapsed": true
   },
   "outputs": [],
   "source": []
  }
 ],
 "metadata": {
  "kernelspec": {
   "display_name": "Python 3",
   "language": "python",
   "name": "python3"
  },
  "language_info": {
   "codemirror_mode": {
    "name": "ipython",
    "version": 3
   },
   "file_extension": ".py",
   "mimetype": "text/x-python",
   "name": "python",
   "nbconvert_exporter": "python",
   "pygments_lexer": "ipython3",
   "version": "3.6.3"
  }
 },
 "nbformat": 4,
 "nbformat_minor": 2
}
