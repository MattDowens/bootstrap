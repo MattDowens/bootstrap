{
 "cells": [
  {
   "cell_type": "code",
   "execution_count": 35,
   "metadata": {},
   "outputs": [],
   "source": [
    "import bootstrap\n",
    "import matplotlib.pyplot as plt\n",
    "import time\n",
    "import datetime\n",
    "import numpy as np\n",
    "from matplotlib.backends.backend_pdf import PdfPages\n",
    "\n",
    "# We define a class which imposes a gap in the Z_2-even operator sector.\n",
    "# The continuum starts at a specified value, and we add an operator between the unitarity bound and this value.\n",
    "class IsingGap(object):\n",
    "    bootstrap.cutoff=1e-10\n",
    "    def __init__(self, gap, sig_values, eps_values):\n",
    "        # Initialize default input parameters and the gap in the Z2-even operator spectrum.\n",
    "        self.default_inputs={'dim': 3, 'kmax': 7, 'lmax': 7, 'mmax': 2, 'nmax': 4}\n",
    "        self.inputs=self.default_inputs\n",
    "        self.gap=gap\n",
    "        self.sig_values=sig_values\n",
    "        self.eps_values=eps_values\n",
    "        self.results={}\n",
    "        \n",
    "    # Determines allowed and disallowed points for whatever the parameters are.\n",
    "    # Will use defaults if they haven't been manually changed.\n",
    "    def determine_grid(self):\n",
    "        \n",
    "        # We must use a tuple as the dictionary key, as it is immutable.\n",
    "        key=(self.inputs['dim'], self.inputs['kmax'], self.inputs['lmax'], self.inputs['mmax'], self.inputs['nmax'])\n",
    "        \n",
    "        self.results[key]=[[],[],[],[]]        \n",
    "        \n",
    "        tab1=bootstrap.ConformalBlockTable(key[0],key[1],key[2],key[3],key[4])\n",
    "        tab2=bootstrap.ConvolvedBlockTable(tab1)\n",
    "        \n",
    "        for sig in self.sig_values:\n",
    "            for eps in self.eps_values:\n",
    "                \n",
    "                sdp=bootstrap.SDP(sig,tab2)\n",
    "                sdp.set_bound(0,float(self.gap))\n",
    "                sdp.add_point(0,eps)\n",
    "                result=sdp.iterate()\n",
    "                \n",
    "                if result:\n",
    "                    self.results[key][0].append(sig)\n",
    "                    self.results[key][1].append(eps)\n",
    "                else:\n",
    "                    self.results[key][2].append(sig)\n",
    "                    self.results[key][3].append(eps)\n",
    "\n",
    "    # This method will append to the results dictionary with the desired values of an input parameter.\n",
    "    # We needn't populate an entire results dictionary at one.\n",
    "    # This is wasteful as we probably don't need all results at a single time.\n",
    "    \n",
    "    def iterate_parameter(self, par, par_range):\n",
    "        if type(par_range)==int:\n",
    "            par_range=[par_range]\n",
    "        for x in par_range:\n",
    "            self.inputs[par]=x\n",
    "            self.determine_grid()\n",
    "        self.inputs=self.default_inputs\n",
    "\n",
    "    # Method for plotting. Should take a list of tuples as inputs and plot the grid corresponding to each input key.        \n",
    "    def plot_grids(self, inputs):\n",
    "        pdf_pages = PdfPages('my-fancy-document.pdf')\n",
    "\n",
    "        nb_plots=len(inputs)\n",
    "        nb_plots_per_page=4\n",
    "        nb_pages=int(np.ceil(nb_plots / float(nb_plots_per_page)))\n",
    "        grid_size=(2,2)\n",
    "        \n",
    "        for i in range(nb_plots):\n",
    "            if i%nb_plots_per_page==0:\n",
    "                fig=plt.figure(figsize=(8.27,11.69), dpi=100)\n",
    "            \n",
    "            plt.subplot2grid(grid_size, (i%grid_size[0], i%grid_size[1]))\n",
    "\n",
    "            allowed_sig=self.results[inputs[i]][0]\n",
    "            allowed_eps=self.results[inputs[i]][1]\n",
    "            disallowed_sig=self.results[inputs[i]][2]\n",
    "            disallowed_eps=self.results[inputs[i]][3]\n",
    "\n",
    "            plt.plot(allowed_sig, allowed_eps, 'r+')\n",
    "            plt.plot(disallowed_sig, disallowed_eps, 'b+')\n",
    "#            plt.title('dim='+str(inputs[i][0])+' kmax='+str(inputs[i][1])+' lmax='+str(inputs[i][2])+' mmax='+str(inputs[i][3])+' nmax='+str(inputs[i][3])\n",
    "            \n",
    "            if (i + 1) % nb_plots_per_page == 0 or (i + 1) == nb_plots:\n",
    "                plt.tight_layout()\n",
    "                pdf_pages.savefig(fig)\n",
    "                \n",
    "        pdf_pages.close()"
   ]
  },
  {
   "cell_type": "code",
   "execution_count": 36,
   "metadata": {},
   "outputs": [
    {
     "name": "stderr",
     "output_type": "stream",
     "text": [
      "/Users/MatthewDowens/Dropbox/PhD/bootstrap/pycftboot/bootstrap.py:952: RuntimeWarning: invalid value encountered in subtract\n",
      "  product *= x - (p - shift)\n",
      "/Users/MatthewDowens/Dropbox/PhD/bootstrap/pycftboot/bootstrap.py:953: RuntimeWarning: invalid value encountered in add\n",
      "  return (base ** (x + shift)) / product\n"
     ]
    }
   ],
   "source": [
    "sig_set=np.arange(0.5,0.85,0.05)\n",
    "eps_set=np.arange(1.0,2.2,0.2)\n",
    "ising_gap=IsingGap(3.0, sig_set, eps_set)\n",
    "n_range=np.arange(1,4,1)\n",
    "ising_gap.iterate_parameter('nmax',n_range)"
   ]
  },
  {
   "cell_type": "code",
   "execution_count": null,
   "metadata": {},
   "outputs": [],
   "source": [
    "ising_gap.results"
   ]
  },
  {
   "cell_type": "code",
   "execution_count": 37,
   "metadata": {},
   "outputs": [],
   "source": [
    "keys_eg=[(3,7,7,2,1), (3,7,7,2,2), (3,7,7,2,3)]\n",
    "ising_gap.plot_grids(keys_eg)"
   ]
  },
  {
   "cell_type": "code",
   "execution_count": 34,
   "metadata": {},
   "outputs": [
    {
     "data": {
      "image/png": "[encoded data removed]",
      "text/plain": [
       "<Figure size 432x288 with 1 Axes>"
      ]
     },
     "metadata": {},
     "output_type": "display_data"
    }
   ],
   "source": [
    "allowed_sig=ising_gap.results[(3,7,7,2,1)][0]\n",
    "allowed_eps=ising_gap.results[(3,7,7,2,1)][1]\n",
    "disallowed_sig=ising_gap.results[(3,7,7,2,1)][2]\n",
    "disallowed_eps=ising_gap.results[(3,7,7,2,1)][3]\n",
    "\n",
    "plt.plot(allowed_sig, allowed_eps, 'r+')\n",
    "plt.plot(disallowed_sig, disallowed_eps, 'b+')\n",
    "plt.show()"
   ]
  }
 ],
 "metadata": {
  "kernelspec": {
   "display_name": "Python 3",
   "language": "python",
   "name": "python3"
  },
  "language_info": {
   "codemirror_mode": {
    "name": "ipython",
    "version": 3
   },
   "file_extension": ".py",
   "mimetype": "text/x-python",
   "name": "python",
   "nbconvert_exporter": "python",
   "pygments_lexer": "ipython3",
   "version": "3.6.3"
  }
 },
 "nbformat": 4,
 "nbformat_minor": 2
}
