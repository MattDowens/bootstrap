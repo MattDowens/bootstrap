{
 "cells": [
  {
   "cell_type": "code",
   "execution_count": 1,
   "metadata": {
    "collapsed": true
   },
   "outputs": [],
   "source": [
    "import bootstrap\n",
    "import matplotlib.pyplot as plt\n",
    "import time\n",
    "import datetime\n",
    "import numpy as np\n",
    "from matplotlib.backends.backend_pdf import PdfPages\n",
    "from revised_ising_gap import *"
   ]
  },
  {
   "cell_type": "code",
   "execution_count": 2,
   "metadata": {
    "collapsed": true
   },
   "outputs": [],
   "source": [
    "ising_gap=IsingGap()"
   ]
  },
  {
   "cell_type": "code",
   "execution_count": 3,
   "metadata": {
    "collapsed": true
   },
   "outputs": [],
   "source": [
    "ising_gap.recover_table(\"test_save\")"
   ]
  },
  {
   "cell_type": "code",
   "execution_count": 4,
   "metadata": {
    "scrolled": true
   },
   "outputs": [
    {
     "data": {
      "text/plain": [
       "[<revised_ising_gap.Grid at 0x1112f3c50>,\n",
       " <revised_ising_gap.Grid at 0x1112f3c88>,\n",
       " <revised_ising_gap.Grid at 0x1112f3cc0>,\n",
       " <revised_ising_gap.Grid at 0x1112f3cf8>,\n",
       " <revised_ising_gap.Grid at 0x1112f3d30>,\n",
       " <revised_ising_gap.Grid at 0x1112f3d68>,\n",
       " <revised_ising_gap.Grid at 0x1112f3da0>,\n",
       " <revised_ising_gap.Grid at 0x1112f3dd8>,\n",
       " <revised_ising_gap.Grid at 0x1112f3e10>,\n",
       " <revised_ising_gap.Grid at 0x1112f3e48>,\n",
       " <revised_ising_gap.Grid at 0x1112f3e80>]"
      ]
     },
     "execution_count": 4,
     "metadata": {},
     "output_type": "execute_result"
    }
   ],
   "source": [
    "ising_gap.table"
   ]
  },
  {
   "cell_type": "code",
   "execution_count": 47,
   "metadata": {
    "collapsed": true
   },
   "outputs": [],
   "source": [
    "ising_gap.save_table_to_file('test_save')"
   ]
  },
  {
   "cell_type": "markdown",
   "metadata": {},
   "source": [
    "We'll iterate 'nmax' for a greater range of data / grids to play with."
   ]
  },
  {
   "cell_type": "code",
   "execution_count": null,
   "metadata": {},
   "outputs": [],
   "source": [
    "ising_gap.iterate_parameter('nmax', np.arange(1,15,1).tolist())"
   ]
  },
  {
   "cell_type": "markdown",
   "metadata": {},
   "source": [
    "Create a plot_grids() method, before integrating it into the class."
   ]
  },
  {
   "cell_type": "code",
   "execution_count": 154,
   "metadata": {
    "collapsed": true
   },
   "outputs": [],
   "source": [
    "# Note, imputs will be a list of grid objects, as found in the table attribute.\n",
    "def plot_grids(dim_values, kmax_values, lmax_values, mmax_values, nmax_values):\n",
    "    table = generate_table(dim_values, kmax_values, lmax_values, mmax_values, nmax_values)\n",
    "    \n",
    "    pdf_pages = PdfPages('grids.pdf')\n",
    "    \n",
    "    # Define the number of plots per page and the size of the grid board.\n",
    "    nb_plots = len(table)\n",
    "    nb_plots_per_page = 6\n",
    "    nb_pages = int(np.ceil(nb_plots / float(nb_plots_per_page)))\n",
    "    grid_size=(3,2)\n",
    "    \n",
    "    # This will define which row of the grid we are on.\n",
    "    row_index = 0\n",
    "    \n",
    "    # We go through each 'grid' in 'table', generating a plot for each.\n",
    "    for i in range(nb_plots):\n",
    "        # To begin, declare a new figure / page if we have exceeded limit of the last page.\n",
    "        if i % nb_plots_per_page == 0:\n",
    "            fig = plt.figure(figsize=(8.27, 11.69), dpi=100)\n",
    "        \n",
    "        # Now, add a plot for the current grid on the grid board.\n",
    "        plt.subplot2grid(grid_size, (row_index, i % grid_size[1]))\n",
    "        if i % grid_size[1] == 1:\n",
    "            row_index += 1\n",
    "        \n",
    "        # Handle our data. Retrieve isolated points for plotting from out input table of Grid objects.\n",
    "        allowed_sig = [points[0] for points in table[i].allowed_points]\n",
    "        allowed_eps = [points[1] for points in table[i].allowed_points]\n",
    "        disallowed_sig = [points[0] for points in table[i].disallowed_points]\n",
    "        disallowed_eps = [points[1] for points in table[i].disallowed_points]\n",
    "        \n",
    "        # Plot a grid.\n",
    "        plt.plot(allowed_sig, allowed_eps, 'r+')\n",
    "        plt.plot(disallowed_sig, disallowed_eps, 'b+')\n",
    "        plt.title('kmax : ' + table[i].kmax.__str__() + \" \" +\n",
    "                  'lmax : ' + table[i].lmax.__str__() + \" \" +\n",
    "                  'mmax : ' + table[i].mmax.__str__() + \" \" +\n",
    "                  'nmax : ' + table[i].nmax.__str__())\n",
    "        \n",
    "        # If we have filled a page, or have reached the end of our plots, tight-pack and save the page.\n",
    "        if (i + 1) % nb_plots_per_page == 0 or (i + 1) == nb_plots:\n",
    "            plt.tight_layout()\n",
    "            pdf_pages.savefig(fig)\n",
    "            row_index = 0\n",
    "            \n",
    "    pdf_pages.close()"
   ]
  },
  {
   "cell_type": "code",
   "execution_count": 155,
   "metadata": {},
   "outputs": [],
   "source": [
    "# Generates a table of already determined grids, specified by lists of points of input parameters.\n",
    "def generate_table(dim_range, kmax_range, lmax_range, mmax_range, nmax_range):\n",
    "    # table to store the resulting grids.\n",
    "    table = []\n",
    "    \n",
    "    if type(dim_range) == int:\n",
    "        dim_range = [dim_range]\n",
    "    if type(kmax_range) == int:\n",
    "        kmax_range = [kmax_range]\n",
    "    if type(lmax_range) == int:\n",
    "        lmax_range = [lmax_range]\n",
    "    if type(mmax_range) == int:\n",
    "        mmax_range = [mmax_range]\n",
    "    if type(nmax_range) == int:\n",
    "        nmax_range = [nmax_range]\n",
    "    \n",
    "    # Generates a list of unique keys, giving a warning message if a grid isn't found.\n",
    "    keys = []\n",
    "    for dim in dim_range:\n",
    "        for kmax in kmax_range:\n",
    "            for lmax in lmax_range:\n",
    "                for mmax in mmax_range:\n",
    "                    for nmax in nmax_range:\n",
    "                        key = [dim, kmax, lmax, mmax, nmax]\n",
    "                        if ising_gap.get_grid_index(*key) == -1:\n",
    "                            print(\"Grid at dim = \" + str(key[0]) + \", \" +\n",
    "                                  \"kmax = \" + str(key[1]) + \", \" +\n",
    "                                  \"lmax = \" + str(key[2]) + \", \" +\n",
    "                                  \"mmax = \" + str(key[3]) + \", \" +\n",
    "                                  \"nmax = \" + str(key[4]) + \" does not exist.\")\n",
    "                        else:\n",
    "                            table.append(ising_gap.table[ising_gap.get_grid_index(*key)])\n",
    "                            \n",
    "    return table"
   ]
  },
  {
   "cell_type": "code",
   "execution_count": 156,
   "metadata": {
    "collapsed": true
   },
   "outputs": [],
   "source": [
    "dims = 3\n",
    "kmaxs = [7,8]\n",
    "lmaxs = 7\n",
    "mmaxs = 2\n",
    "nmaxs = np.arange(1, 12, 1).tolist()"
   ]
  },
  {
   "cell_type": "code",
   "execution_count": 157,
   "metadata": {},
   "outputs": [
    {
     "name": "stderr",
     "output_type": "stream",
     "text": [
      "/Users/MatthewDowens/anaconda3/lib/python3.6/site-packages/matplotlib/pyplot.py:537: RuntimeWarning: More than 20 figures have been opened. Figures created through the pyplot interface (`matplotlib.pyplot.figure`) are retained until explicitly closed and may consume too much memory. (To control this warning, see the rcParam `figure.max_open_warning`).\n",
      "  max_open_warning, RuntimeWarning)\n"
     ]
    }
   ],
   "source": [
    "plot_grids(3,7,7,2,np.arange(1,12,1).tolist())"
   ]
  }
 ],
 "metadata": {
  "kernelspec": {
   "display_name": "Python 3",
   "language": "python",
   "name": "python3"
  },
  "language_info": {
   "codemirror_mode": {
    "name": "ipython",
    "version": 3
   },
   "file_extension": ".py",
   "mimetype": "text/x-python",
   "name": "python",
   "nbconvert_exporter": "python",
   "pygments_lexer": "ipython3",
   "version": "3.6.3"
  }
 },
 "nbformat": 4,
 "nbformat_minor": 2
}
