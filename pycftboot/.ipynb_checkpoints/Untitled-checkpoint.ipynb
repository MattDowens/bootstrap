{
 "cells": [
  {
   "cell_type": "code",
   "execution_count": 2,
   "metadata": {},
   "outputs": [
    {
     "name": "stdout",
     "output_type": "stream",
     "text": [
      "Run time 00:02:03 CPU time 00:01:04\n"
     ]
    }
   ],
   "source": [
    "import bootstrap\n",
    "import matplotlib.pyplot as plt\n",
    "import time\n",
    "import datetime\n",
    "\n",
    "start_time=time.time()\n",
    "start_cpu=time.clock()\n",
    "bootstrap.cutoff=1e-10\n",
    "dim=3\n",
    "k_max=7\n",
    "l_max=7\n",
    "n_max=4\n",
    "m_max=2\n",
    "tab1=bootstrap.ConformalBlockTable(dim,k_max,l_max,m_max,n_max)\n",
    "tab2=bootstrap.ConvolvedBlockTable(tab1)\n",
    "yes=[]\n",
    "no=[]\n",
    "\n",
    "def find_bound(table2,sig):\n",
    "    eps=1.0\n",
    "    while eps<1.5:\n",
    "        sdp=bootstrap.SDP(sig,table2)\n",
    "        sdp.set_bound(0,dim)\n",
    "        sdp.add_point(0,eps)\n",
    "        allowed=sdp.iterate()\n",
    "        if allowed:\n",
    "            yes.append(eps)\n",
    "        else:\n",
    "            no.append(eps)\n",
    "        eps+=0.01\n",
    "\n",
    "find_bound(tab2,0.535)\n",
    "\n",
    "end_time=time.time()\n",
    "end_cpu=time.clock()\n",
    "run_time=end_time-start_time\n",
    "cpu_time=end_cpu-start_cpu\n",
    "run_time1=time.gmtime(run_time)\n",
    "run_time2=time.strftime(\"%H:%M:%S\",run_time1)\n",
    "cpu_time1=time.gmtime(cpu_time)\n",
    "cpu_time2=time.strftime(\"%H:%M:%S\",cpu_time1)\n",
    "print(\"Run time \"+run_time2, \"CPU time \"+cpu_time2)"
   ]
  },
  {
   "cell_type": "code",
   "execution_count": null,
   "metadata": {
    "collapsed": true
   },
   "outputs": [],
   "source": []
  }
 ],
 "metadata": {
  "kernelspec": {
   "display_name": "Python 3",
   "language": "python",
   "name": "python3"
  },
  "language_info": {
   "codemirror_mode": {
    "name": "ipython",
    "version": 3
   },
   "file_extension": ".py",
   "mimetype": "text/x-python",
   "name": "python",
   "nbconvert_exporter": "python",
   "pygments_lexer": "ipython3",
   "version": "3.6.3"
  }
 },
 "nbformat": 4,
 "nbformat_minor": 2
}
