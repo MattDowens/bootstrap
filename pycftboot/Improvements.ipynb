{
 "cells": [
  {
   "cell_type": "code",
   "execution_count": 6,
   "metadata": {
    "collapsed": true
   },
   "outputs": [],
   "source": [
    "import bootstrap\n",
    "import matplotlib.pyplot as plt\n",
    "import time\n",
    "import datetime\n",
    "import numpy as np"
   ]
  },
  {
   "cell_type": "code",
   "execution_count": null,
   "metadata": {
    "collapsed": true
   },
   "outputs": [],
   "source": [
    "\"\"\"\n",
    "class IsingGap(SDP):\n",
    "    def __init__(self, dim, cutoff, kmax, lmax, nmax, mmax):\n",
    "        self.dim=dim\n",
    "        self.cutoff=cutoff\n",
    "        self.kmax=kmax\n",
    "        self.lmax=lmax\n",
    "        self.nmax=nmax\n",
    "        self.mmax=mmax\n",
    "\"\"\""
   ]
  },
  {
   "cell_type": "code",
   "execution_count": null,
   "metadata": {
    "collapsed": true
   },
   "outputs": [],
   "source": [
    "class IsingGap(object):\n",
    "    def __init__(self):\n",
    "        self.inputs={}        "
   ]
  },
  {
   "cell_type": "code",
   "execution_count": 7,
   "metadata": {},
   "outputs": [
    {
     "name": "stdout",
     "output_type": "stream",
     "text": [
      "{'dim': 3, 'kmax': 7, 'lmax': 7, 'nmax': 4, 'mmax': 2}\n"
     ]
    }
   ],
   "source": [
    "#Initialize empty inputs dictionary. Don't put bootstrap.cutoff in here for now.\n",
    "#inputs={}\n",
    "inputs['dim']=3\n",
    "inputs['kmax']=7\n",
    "inputs['lmax']=7\n",
    "inputs['nmax']=4\n",
    "inputs['mmax']=2\n",
    "print(inputs)"
   ]
  },
  {
   "cell_type": "code",
   "execution_count": 8,
   "metadata": {
    "collapsed": true
   },
   "outputs": [],
   "source": [
    "#Iterate_parameter must take an input parameter and alter the default input dictionary.\n",
    "#par is a string, the parameter name. input_parameters is the input dictionary. par_range is a numpy array.\n",
    "#Take 'dim' out of inputs??\n",
    "def iterate_parameter(par, par_range, input_ps):\n",
    "    if type(par_range)==int:\n",
    "        par_range=[par_range]\n",
    "#    input_parameters[par]=x\n",
    "    start_time=time.time()\n",
    "    start_cpu=time.clock()\n",
    "    sig_set=np.arange(0.5,0.85,0.05)\n",
    "    eps_set=np.arange(1.0,2.2,0.2)\n",
    "    bootstrap.cutoff=1e-10\n",
    "#    dim=3\n",
    "#    k_max=7\n",
    "#    l_max=7\n",
    "#    n_max=4\n",
    "#    m_max=2\n",
    "    for x in par_range:\n",
    "        input_ps[par]=x\n",
    "        tab1=bootstrap.ConformalBlockTable(input_ps['dim'],input_ps['kmax'],input_ps['lmax'],input_ps['mmax'],input_ps['nmax'])\n",
    "#        tab1=bootstrap.ConformalBlockTable(dim,k_max,l_max,m_max,n_max)\n",
    "        tab2=bootstrap.ConvolvedBlockTable(tab1)\n",
    "        #Do we need dim,tab2,sig_set,eps_set as inputs here? Aren't they local variables?\n",
    "        plot_grid(x,input_ps['dim'],tab2,sig_set,eps_set)\n",
    "    end_time=time.time()\n",
    "    end_cpu=time.clock()\n",
    "    run_time=time.strftime(\"%H:%M:%S\",time.gmtime(end_time-start_time))\n",
    "    cpu_time=time.strftime(\"%H:%M:%S\",time.gmtime(end_cpu-start_cpu))\n",
    "    print(\"Run time \"+run_time, \"CPU time \"+cpu_time)"
   ]
  },
  {
   "cell_type": "code",
   "execution_count": 9,
   "metadata": {
    "collapsed": true
   },
   "outputs": [],
   "source": [
    "def plot_grid(parameter,dimension,table,sig_range,eps_range):\n",
    "    start_time=time.time()\n",
    "    start_cpu=time.clock()\n",
    "    allowed_sig=[]\n",
    "    allowed_eps=[]\n",
    "    disallowed_sig=[]\n",
    "    disallowed_eps=[]\n",
    "    for sig in sig_range:\n",
    "        for eps in eps_range:\n",
    "            sdp=bootstrap.SDP(sig,table)\n",
    "            sdp.set_bound(0,float(dimension))\n",
    "            sdp.add_point(0,eps)\n",
    "            result=sdp.iterate()\n",
    "            if result:\n",
    "                allowed_sig.append(sig)\n",
    "                allowed_eps.append(eps)\n",
    "            else:\n",
    "                disallowed_sig.append(sig)\n",
    "                disallowed_eps.append(eps)\n",
    "    end_time=time.time()\n",
    "    end_cpu=time.clock()\n",
    "    run_time=time.strftime(\"%H:%M:%S\",time.gmtime(end_time-start_time))\n",
    "    cpu_time=time.strftime(\"%H:%M:%S\",time.gmtime(end_cpu-start_cpu))\n",
    "    plt.plot(allowed_sig,allowed_eps,'r+')\n",
    "    plt.plot(disallowed_sig,disallowed_eps,'b+')\n",
    "    plt.title(\"n_max=\"+str(parameter)+\". Time Taken: \"+run_time+\". CPU Time: \"+cpu_time)\n",
    "    plt.show()"
   ]
  },
  {
   "cell_type": "markdown",
   "metadata": {},
   "source": [
    "Testing out the code by recreating the n=1,2,3 results in n_exploration.ipynb:"
   ]
  },
  {
   "cell_type": "code",
   "execution_count": 11,
   "metadata": {},
   "outputs": [
    {
     "name": "stderr",
     "output_type": "stream",
     "text": [
      "/Users/MatthewDowens/Dropbox/PhD/bootstrap/pycftboot/bootstrap.py:952: RuntimeWarning: invalid value encountered in subtract\n",
      "  product *= x - (p - shift)\n",
      "/Users/MatthewDowens/Dropbox/PhD/bootstrap/pycftboot/bootstrap.py:953: RuntimeWarning: invalid value encountered in add\n",
      "  return (base ** (x + shift)) / product\n"
     ]
    },
    {
     "data": {
      "image/png": "[encoded data removed]",
      "text/plain": [
       "<Figure size 432x288 with 1 Axes>"
      ]
     },
     "metadata": {},
     "output_type": "display_data"
    },
    {
     "data": {
      "image/png": "[encoded data removed]",
      "text/plain": [
       "<Figure size 432x288 with 1 Axes>"
      ]
     },
     "metadata": {},
     "output_type": "display_data"
    },
    {
     "data": {
      "image/png": "[encoded data removed]",
      "text/plain": [
       "<Figure size 432x288 with 1 Axes>"
      ]
     },
     "metadata": {},
     "output_type": "display_data"
    },
    {
     "name": "stdout",
     "output_type": "stream",
     "text": [
      "Run time 00:02:22 CPU time 00:01:28\n"
     ]
    }
   ],
   "source": [
    "n_range=np.arange(1,4,1)\n",
    "iterate_parameter('nmax',n_range,inputs)"
   ]
  }
 ],
 "metadata": {
  "kernelspec": {
   "display_name": "Python 3",
   "language": "python",
   "name": "python3"
  },
  "language_info": {
   "codemirror_mode": {
    "name": "ipython",
    "version": 3
   },
   "file_extension": ".py",
   "mimetype": "text/x-python",
   "name": "python",
   "nbconvert_exporter": "python",
   "pygments_lexer": "ipython3",
   "version": "3.6.3"
  }
 },
 "nbformat": 4,
 "nbformat_minor": 2
}
