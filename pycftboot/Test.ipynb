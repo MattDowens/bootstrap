{
 "cells": [
  {
   "cell_type": "code",
   "execution_count": 2,
   "metadata": {
    "collapsed": true
   },
   "outputs": [],
   "source": [
    "import bootstrap\n",
    "import matplotlib.pyplot as plt\n",
    "import time\n",
    "import datetime\n",
    "import numpy as np\n",
    "from matplotlib.backends.backend_pdf import PdfPages\n",
    "from revised_ising_gap import *"
   ]
  },
  {
   "cell_type": "code",
   "execution_count": 4,
   "metadata": {
    "collapsed": true
   },
   "outputs": [],
   "source": [
    "ising_gap = IsingGap(True, 'new_save')"
   ]
  },
  {
   "cell_type": "code",
   "execution_count": 5,
   "metadata": {},
   "outputs": [
    {
     "data": {
      "text/plain": [
       "[<revised_ising_gap.Grid at 0x110c11a90>,\n",
       " <revised_ising_gap.Grid at 0x110c11ac8>,\n",
       " <revised_ising_gap.Grid at 0x110c11b70>,\n",
       " <revised_ising_gap.Grid at 0x110c11b38>,\n",
       " <revised_ising_gap.Grid at 0x110c11b00>,\n",
       " <revised_ising_gap.Grid at 0x110c11780>,\n",
       " <revised_ising_gap.Grid at 0x110c11ba8>,\n",
       " <revised_ising_gap.Grid at 0x110c11be0>,\n",
       " <revised_ising_gap.Grid at 0x110c11c18>,\n",
       " <revised_ising_gap.Grid at 0x110c11c50>,\n",
       " <revised_ising_gap.Grid at 0x110c11c88>,\n",
       " <revised_ising_gap.Grid at 0x110c11cc0>,\n",
       " <revised_ising_gap.Grid at 0x110c11cf8>,\n",
       " <revised_ising_gap.Grid at 0x110c11d30>,\n",
       " <revised_ising_gap.Grid at 0x110c11d68>,\n",
       " <revised_ising_gap.Grid at 0x110c11da0>]"
      ]
     },
     "execution_count": 5,
     "metadata": {},
     "output_type": "execute_result"
    }
   ],
   "source": [
    "ising_gap.table"
   ]
  },
  {
   "cell_type": "code",
   "execution_count": 7,
   "metadata": {
    "collapsed": true
   },
   "outputs": [],
   "source": [
    "key = [7,7,2,2]"
   ]
  },
  {
   "cell_type": "code",
   "execution_count": 9,
   "metadata": {},
   "outputs": [
    {
     "data": {
      "text/plain": [
       "3.0"
      ]
     },
     "execution_count": 9,
     "metadata": {},
     "output_type": "execute_result"
    }
   ],
   "source": [
    "ising_gap.convergence_factor(key)"
   ]
  },
  {
   "cell_type": "code",
   "execution_count": null,
   "metadata": {
    "collapsed": true
   },
   "outputs": [],
   "source": []
  }
 ],
 "metadata": {
  "kernelspec": {
   "display_name": "Python 3",
   "language": "python",
   "name": "python3"
  },
  "language_info": {
   "codemirror_mode": {
    "name": "ipython",
    "version": 3
   },
   "file_extension": ".py",
   "mimetype": "text/x-python",
   "name": "python",
   "nbconvert_exporter": "python",
   "pygments_lexer": "ipython3",
   "version": "3.6.3"
  }
 },
 "nbformat": 4,
 "nbformat_minor": 2
}
