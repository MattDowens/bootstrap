{
 "cells": [
  {
   "cell_type": "code",
   "execution_count": 2,
   "metadata": {
    "scrolled": true
   },
   "outputs": [],
   "source": [
    "import bootstrap\n",
    "import matplotlib.pyplot as plt\n",
    "import time\n",
    "import datetime\n",
    "import numpy as np\n",
    "from matplotlib.backends.backend_pdf import PdfPages\n",
    "from archipelago import *\n",
    "import sys\n",
    "from symengine.lib.symengine_wrapper import *\n",
    "bootstrap.sdpb_path = \"/usr/local/Cellar/sdpb/0.0.2/bin/sdpb\"\n",
    "\n",
    "phi_num = 30\n",
    "sing_num = 20\n",
    "\n",
    "start = [0.501, 1.05]\n",
    "stop = [0.53, 2.0]\n",
    "\n",
    "mixed = MixedCorrelator(N = 1)\n",
    "mixed.point_file = \"arch_testing\"\n",
    "rows = mixed.generate_rows(start, stop, phi_num, sing_num)\n",
    "row_index = 1\n",
    "bootstrap.prec = 800"
   ]
  },
  {
   "cell_type": "code",
   "execution_count": 3,
   "metadata": {},
   "outputs": [],
   "source": [
    "phi = eval_mpfr(rows[11][0][10], bootstrap.prec)\n",
    "sing = eval_mpfr(rows[11][1][10], bootstrap.prec)"
   ]
  },
  {
   "cell_type": "code",
   "execution_count": null,
   "metadata": {},
   "outputs": [
    {
     "name": "stdout",
     "output_type": "stream",
     "text": [
      "Number of components (dim of PolynomialVectorMatrices) : 115.\n",
      "Kmax should be around (max dimension of convolved block tables): 20.\n",
      "It is: 40.\n",
      "2499\n",
      "Running SDPB. Process ID: 3253\n"
     ]
    }
   ],
   "source": [
    "key = [40, 40, 2,4]\n",
    "g_tab1 = bootstrap.ConformalBlockTable(3, *(key + [0, 0, \"odd_spins = True\"]))\n",
    "g_tab2 = bootstrap.ConformalBlockTable(3, *(key + [phi - sing, phi - sing, \"odd_spins = True\"]))\n",
    "g_tab3 = bootstrap.ConformalBlockTable(3, *(key + [sing - phi, phi - sing, \"odd_spins = True\"]))\n",
    "\n",
    "f_tab1a = bootstrap.ConvolvedBlockTable(g_tab1)\n",
    "f_tab1s = bootstrap.ConvolvedBlockTable(g_tab1, symmetric = True)\n",
    "f_tab2a = bootstrap.ConvolvedBlockTable(g_tab2)\n",
    "f_tab3a = bootstrap.ConvolvedBlockTable(g_tab3)\n",
    "f_tab3s = bootstrap.ConvolvedBlockTable(g_tab3, symmetric = True)\n",
    "\n",
    "tab_list = [f_tab1a, f_tab1s, f_tab2a, f_tab3a, f_tab3s]\n",
    "    \n",
    "dimension = (5 * len(f_tab1a.table[0].vector)) + (2 * len(f_tab1s.table[0].vector))\n",
    "max_dimension = 0\n",
    "for tab in tab_list:\n",
    "    max_dimension = max(max_dimension, len(tab.table[0].vector))\n",
    "\n",
    "print(\"Number of components (dim of PolynomialVectorMatrices) : \" + dimension.__str__() + \".\")\n",
    "print(\"Kmax should be around (max dimension of convolved block tables): \" + max_dimension.__str__() + \".\")\n",
    "print(\"It is: \" + key[0].__str__() + \".\")\n",
    "    \n",
    "sdp = bootstrap.SDP([phi, sing], tab_list, vector_types = mixed.info)\n",
    "    \n",
    "# We assume the continuum in both even vector and even singlet sectors begins at the dimension=3.\n",
    "sdp.set_bound([0, 0], 3)\n",
    "sdp.set_bound([0, 3], 3)\n",
    "\n",
    "# Except for the two lowest dimension scalar operators in each sector.\n",
    "sdp.add_point([0, 0], sing)\n",
    "sdp.add_point([0, 3], phi)\n",
    "\n",
    "sdp.set_option(\"maxThreads\", 16)\n",
    "sdp.set_option(\"dualErrorThreshold\", 1e-15)\n",
    "sdp.set_option(\"maxIterations\", 1000)\n",
    "    \n",
    "name = \"test_SDP\"\n",
    "obj = [0.0] * len(sdp.table[0][0][0].vector)\n",
    "sdp.write_xml(obj, sdp.unit, name)\n",
    "    \n",
    "sdpb = subprocess.Popen([\"/usr/local/Cellar/sdpb/0.0.2/bin/sdpb\", \"-s\", name + \".xml\", \"--precision=\" + str(bootstrap.prec), \"--findPrimalFeasible\", \"--findDualFeasible\", \"--noFinalCheckpoint\"] + sdp.options)\n",
    "print(str(os.getppid()))\n",
    "print(\"Running SDPB. Process ID: \" + str(sdpb.pid))\n",
    "sdpb.wait()\n",
    "print(\"SDPB has finished running. RETURN code: \" + str(sdpb.returncode))\n",
    "    \n",
    "if sdpb.returncode != 0:\n",
    "    print(\"There was a problem running SDPB. See the process returncode attribute for more info.\")\n",
    "        \n",
    "output = sdp.read_output(name = name)\n",
    "terminate_reason = output[\"terminateReason\"]\n",
    "result = terminate_reason == \"found primal feasible solution\"\n",
    "print(\"The result is: \" + result.__str__())"
   ]
  }
 ],
 "metadata": {
  "kernelspec": {
   "display_name": "Python 3",
   "language": "python",
   "name": "python3"
  },
  "language_info": {
   "codemirror_mode": {
    "name": "ipython",
    "version": 3
   },
   "file_extension": ".py",
   "mimetype": "text/x-python",
   "name": "python",
   "nbconvert_exporter": "python",
   "pygments_lexer": "ipython3",
   "version": "3.7.0"
  }
 },
 "nbformat": 4,
 "nbformat_minor": 2
}
