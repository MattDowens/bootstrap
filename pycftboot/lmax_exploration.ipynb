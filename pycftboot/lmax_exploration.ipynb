{
 "cells": [
  {
   "cell_type": "code",
   "execution_count": 16,
   "metadata": {
    "collapsed": true
   },
   "outputs": [],
   "source": [
    "import bootstrap\n",
    "import matplotlib.pyplot as plt\n",
    "import time\n",
    "import datetime\n",
    "import numpy as np"
   ]
  },
  {
   "cell_type": "code",
   "execution_count": 17,
   "metadata": {
    "collapsed": true
   },
   "outputs": [],
   "source": [
    "def plot_grid(l,dim,table,sig_range,eps_range):\n",
    "    start_time=time.time()\n",
    "    start_cpu=time.clock()\n",
    "    allowed_sig=[]\n",
    "    allowed_eps=[]\n",
    "    disallowed_sig=[]\n",
    "    disallowed_eps=[]\n",
    "    for sig in sig_range:\n",
    "        for eps in eps_range:\n",
    "            sdp=bootstrap.SDP(sig,table)\n",
    "            sdp.set_bound(0,float(dim))\n",
    "            sdp.add_point(0,eps)\n",
    "            result=sdp.iterate()\n",
    "            if result:\n",
    "                allowed_sig.append(sig)\n",
    "                allowed_eps.append(eps)\n",
    "            else:\n",
    "                disallowed_sig.append(sig)\n",
    "                disallowed_eps.append(eps)\n",
    "    end_time=time.time()\n",
    "    end_cpu=time.clock()\n",
    "    run_time=time.strftime(\"%H:%M:%S\",time.gmtime(end_time-start_time))\n",
    "    cpu_time=time.strftime(\"%H:%M:%S\",time.gmtime(end_cpu-start_cpu))\n",
    "    plt.plot(allowed_sig,allowed_eps,'r+')\n",
    "    plt.plot(disallowed_sig,disallowed_eps,'b+')\n",
    "    plt.title(\"l_max=\"+str(l)+\". Time Taken: \"+run_time+\". CPU Time: \"+cpu_time)\n",
    "    plt.show()"
   ]
  },
  {
   "cell_type": "code",
   "execution_count": 27,
   "metadata": {
    "collapsed": true
   },
   "outputs": [],
   "source": [
    "def iterate_l_max(l_range):\n",
    "    if type(l_range)==int:\n",
    "        l_range=[l_range]\n",
    "    start_time=time.time()\n",
    "    start_cpu=time.clock()\n",
    "    sig_set=np.arange(0.5,0.85,0.05)\n",
    "    eps_set=np.arange(1.0,2.2,0.2)\n",
    "    bootstrap.cutoff=1e-10\n",
    "    dim=3\n",
    "    k_max=20\n",
    "#    l_max=15\n",
    "    n_max=4\n",
    "    m_max=2\n",
    "    for l in l_range:\n",
    "        tab1=bootstrap.ConformalBlockTable(dim,k_max,l,m_max,n_max)\n",
    "        tab2=bootstrap.ConvolvedBlockTable(tab1)\n",
    "        plot_grid(l,dim,tab2,sig_set,eps_set)\n",
    "    end_time=time.time()\n",
    "    end_cpu=time.clock()\n",
    "    run_time=time.strftime(\"%H:%M:%S\",time.gmtime(end_time-start_time))\n",
    "    cpu_time=time.strftime(\"%H:%M:%S\",time.gmtime(end_cpu-start_cpu))\n",
    "    print(\"Run time \"+run_time, \"CPU time \"+cpu_time)"
   ]
  },
  {
   "cell_type": "code",
   "execution_count": 21,
   "metadata": {},
   "outputs": [
    {
     "name": "stderr",
     "output_type": "stream",
     "text": [
      "/Users/MatthewDowens/Dropbox/PhD/bootstrap/pycftboot/bootstrap.py:952: RuntimeWarning: invalid value encountered in subtract\n",
      "  product *= x - (p - shift)\n",
      "/Users/MatthewDowens/Dropbox/PhD/bootstrap/pycftboot/bootstrap.py:953: RuntimeWarning: invalid value encountered in add\n",
      "  return (base ** (x + shift)) / product\n"
     ]
    },
    {
     "data": {
      "image/png": "[encoded data removed]",
      "text/plain": [
       "<Figure size 432x288 with 1 Axes>"
      ]
     },
     "metadata": {},
     "output_type": "display_data"
    },
    {
     "name": "stdout",
     "output_type": "stream",
     "text": [
      "Run time 00:14:42 CPU time 00:05:42\n"
     ]
    }
   ],
   "source": [
    "start_time=time.time()\n",
    "start_cpu=time.clock()\n",
    "\n",
    "#l_set=np.arange(1,8,1)\n",
    "l_set=[14]\n",
    "#sig_set=np.arange(0.5,0.85,0.05)\n",
    "#eps_set=np.arange(1.0,2.2,0.2)\n",
    "iterate_l_max(l_set)\n",
    "\n",
    "end_time=time.time()\n",
    "end_cpu=time.clock()\n",
    "run_time=time.strftime(\"%H:%M:%S\",time.gmtime(end_time-start_time))\n",
    "cpu_time=time.strftime(\"%H:%M:%S\",time.gmtime(end_cpu-start_cpu))\n",
    "print(\"Run time \"+run_time, \"CPU time \"+cpu_time)"
   ]
  },
  {
   "cell_type": "markdown",
   "metadata": {},
   "source": [
    "We now try l_max=10, to see if we get any allowed points."
   ]
  },
  {
   "cell_type": "code",
   "execution_count": 24,
   "metadata": {},
   "outputs": [
    {
     "name": "stderr",
     "output_type": "stream",
     "text": [
      "/Users/MatthewDowens/Dropbox/PhD/bootstrap/pycftboot/bootstrap.py:952: RuntimeWarning: invalid value encountered in subtract\n",
      "  product *= x - (p - shift)\n",
      "/Users/MatthewDowens/Dropbox/PhD/bootstrap/pycftboot/bootstrap.py:953: RuntimeWarning: invalid value encountered in add\n",
      "  return (base ** (x + shift)) / product\n"
     ]
    },
    {
     "data": {
      "image/png": "[encoded data removed]",
      "text/plain": [
       "<Figure size 432x288 with 1 Axes>"
      ]
     },
     "metadata": {},
     "output_type": "display_data"
    },
    {
     "name": "stdout",
     "output_type": "stream",
     "text": [
      "Run time 00:09:59 CPU time 00:03:55\n"
     ]
    }
   ],
   "source": [
    "iterate_l_max([10])"
   ]
  },
  {
   "cell_type": "markdown",
   "metadata": {},
   "source": [
    "This seems to suggest that increasing l_max actually increases the region of the allowed space.\n",
    "This is not what one would expect."
   ]
  },
  {
   "cell_type": "markdown",
   "metadata": {},
   "source": [
    "Running the SDPB for l=0,1,...,7 seemed to not produce any allowed points.\n",
    "We try l_max=8:"
   ]
  },
  {
   "cell_type": "code",
   "execution_count": 28,
   "metadata": {},
   "outputs": [
    {
     "name": "stderr",
     "output_type": "stream",
     "text": [
      "/Users/MatthewDowens/Dropbox/PhD/bootstrap/pycftboot/bootstrap.py:952: RuntimeWarning: invalid value encountered in subtract\n",
      "  product *= x - (p - shift)\n",
      "/Users/MatthewDowens/Dropbox/PhD/bootstrap/pycftboot/bootstrap.py:953: RuntimeWarning: invalid value encountered in add\n",
      "  return (base ** (x + shift)) / product\n"
     ]
    },
    {
     "data": {
      "image/png": "[encoded data removed]",
      "text/plain": [
       "<Figure size 432x288 with 1 Axes>"
      ]
     },
     "metadata": {},
     "output_type": "display_data"
    },
    {
     "name": "stdout",
     "output_type": "stream",
     "text": [
      "Run time 00:09:31 CPU time 00:03:11\n"
     ]
    }
   ],
   "source": [
    "iterate_l_max(8)"
   ]
  },
  {
   "cell_type": "markdown",
   "metadata": {},
   "source": [
    "We now try l_max=9, to see if this represents an inbetween state or whether there is an abrupt change at l_max=10:"
   ]
  },
  {
   "cell_type": "code",
   "execution_count": 29,
   "metadata": {},
   "outputs": [
    {
     "name": "stderr",
     "output_type": "stream",
     "text": [
      "/Users/MatthewDowens/Dropbox/PhD/bootstrap/pycftboot/bootstrap.py:952: RuntimeWarning: invalid value encountered in subtract\n",
      "  product *= x - (p - shift)\n",
      "/Users/MatthewDowens/Dropbox/PhD/bootstrap/pycftboot/bootstrap.py:953: RuntimeWarning: invalid value encountered in add\n",
      "  return (base ** (x + shift)) / product\n"
     ]
    },
    {
     "data": {
      "image/png": "[encoded data removed]",
      "text/plain": [
       "<Figure size 432x288 with 1 Axes>"
      ]
     },
     "metadata": {},
     "output_type": "display_data"
    },
    {
     "name": "stdout",
     "output_type": "stream",
     "text": [
      "Run time 00:09:49 CPU time 00:03:52\n"
     ]
    }
   ],
   "source": [
    "iterate_l_max(9)"
   ]
  },
  {
   "cell_type": "markdown",
   "metadata": {},
   "source": [
    "This is identical to the l_max=10 case.\n",
    "l_max=9 is therefore the cutoff.\n",
    "Does this cutoff exist for all values of other possible parameters?\n",
    "Does its value depend on the values of the other parameters?"
   ]
  }
 ],
 "metadata": {
  "kernelspec": {
   "display_name": "Python 3",
   "language": "python",
   "name": "python3"
  },
  "language_info": {
   "codemirror_mode": {
    "name": "ipython",
    "version": 3
   },
   "file_extension": ".py",
   "mimetype": "text/x-python",
   "name": "python",
   "nbconvert_exporter": "python",
   "pygments_lexer": "ipython3",
   "version": "3.6.3"
  }
 },
 "nbformat": 4,
 "nbformat_minor": 2
}
