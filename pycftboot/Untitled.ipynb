{
 "cells": [
  {
   "cell_type": "code",
   "execution_count": 13,
   "metadata": {},
   "outputs": [
    {
     "name": "stdout",
     "output_type": "stream",
     "text": [
      "Run time 00:08:50 CPU time 00:06:45\n"
     ]
    }
   ],
   "source": [
    "import bootstrap\n",
    "import matplotlib.pyplot as plt\n",
    "import time\n",
    "import datetime\n",
    "\n",
    "start_time=time.time()\n",
    "start_cpu=time.clock()\n",
    "bootstrap.cutoff=1e-10\n",
    "dim=3\n",
    "k_max=20\n",
    "l_max=15\n",
    "n_max=4\n",
    "m_max=2\n",
    "tab1=bootstrap.ConformalBlockTable(dim,k_max,l_max,m_max,n_max)\n",
    "tab2=bootstrap.ConvolvedBlockTable(tab1)\n",
    "yes=[]\n",
    "no=[]\n",
    "\n",
    "def find_bound(table2,sig):\n",
    "    eps=1.0\n",
    "    while eps<1.5:\n",
    "        sdp=bootstrap.SDP(sig,table2)\n",
    "        sdp.set_bound(0,eps)\n",
    "#       sdp.add_point(0,eps)\n",
    "        allowed=sdp.iterate()\n",
    "        if allowed:\n",
    "            yes.append(eps)\n",
    "        else:\n",
    "            no.append(eps)\n",
    "        eps+=0.01\n",
    "\n",
    "find_bound(tab2,0.75)\n",
    "\n",
    "end_time=time.time()\n",
    "end_cpu=time.clock()\n",
    "run_time=end_time-start_time\n",
    "cpu_time=end_cpu-start_cpu\n",
    "run_time1=time.gmtime(run_time)\n",
    "run_time2=time.strftime(\"%H:%M:%S\",run_time1)\n",
    "cpu_time1=time.gmtime(cpu_time)\n",
    "cpu_time2=time.strftime(\"%H:%M:%S\",cpu_time1)\n",
    "print(\"Run time \"+run_time2, \"CPU time \"+cpu_time2)"
   ]
  },
  {
   "cell_type": "code",
   "execution_count": 14,
   "metadata": {},
   "outputs": [
    {
     "data": {
      "text/plain": [
       "[1.0,\n",
       " 1.01,\n",
       " 1.02,\n",
       " 1.03,\n",
       " 1.04,\n",
       " 1.05,\n",
       " 1.06,\n",
       " 1.07,\n",
       " 1.08,\n",
       " 1.09,\n",
       " 1.1,\n",
       " 1.11,\n",
       " 1.12,\n",
       " 1.1300000000000001,\n",
       " 1.1400000000000001,\n",
       " 1.1500000000000001,\n",
       " 1.1600000000000001,\n",
       " 1.1700000000000002,\n",
       " 1.1800000000000002,\n",
       " 1.1900000000000002,\n",
       " 1.2000000000000002,\n",
       " 1.2100000000000002,\n",
       " 1.2200000000000002,\n",
       " 1.2300000000000002,\n",
       " 1.2400000000000002,\n",
       " 1.2500000000000002,\n",
       " 1.2600000000000002,\n",
       " 1.2700000000000002,\n",
       " 1.2800000000000002,\n",
       " 1.2900000000000003,\n",
       " 1.3000000000000003,\n",
       " 1.3100000000000003,\n",
       " 1.3200000000000003,\n",
       " 1.3300000000000003,\n",
       " 1.3400000000000003,\n",
       " 1.3500000000000003,\n",
       " 1.3600000000000003,\n",
       " 1.3700000000000003,\n",
       " 1.3800000000000003,\n",
       " 1.3900000000000003,\n",
       " 1.4000000000000004,\n",
       " 1.4100000000000004,\n",
       " 1.4200000000000004,\n",
       " 1.4300000000000004,\n",
       " 1.4400000000000004,\n",
       " 1.4500000000000004,\n",
       " 1.4600000000000004,\n",
       " 1.4700000000000004,\n",
       " 1.4800000000000004,\n",
       " 1.4900000000000004]"
      ]
     },
     "execution_count": 14,
     "metadata": {},
     "output_type": "execute_result"
    }
   ],
   "source": [
    "yes"
   ]
  },
  {
   "cell_type": "code",
   "execution_count": 15,
   "metadata": {},
   "outputs": [
    {
     "data": {
      "text/plain": [
       "[]"
      ]
     },
     "execution_count": 15,
     "metadata": {},
     "output_type": "execute_result"
    }
   ],
   "source": [
    "no"
   ]
  },
  {
   "cell_type": "code",
   "execution_count": null,
   "metadata": {
    "collapsed": true
   },
   "outputs": [],
   "source": []
  }
 ],
 "metadata": {
  "kernelspec": {
   "display_name": "Python 3",
   "language": "python",
   "name": "python3"
  },
  "language_info": {
   "codemirror_mode": {
    "name": "ipython",
    "version": 3
   },
   "file_extension": ".py",
   "mimetype": "text/x-python",
   "name": "python",
   "nbconvert_exporter": "python",
   "pygments_lexer": "ipython3",
   "version": "3.6.3"
  }
 },
 "nbformat": 4,
 "nbformat_minor": 2
}
