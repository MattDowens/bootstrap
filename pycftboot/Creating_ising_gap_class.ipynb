{
 "cells": [
  {
   "cell_type": "code",
   "execution_count": 39,
   "metadata": {
    "collapsed": true
   },
   "outputs": [],
   "source": [
    "import bootstrap\n",
    "import matplotlib.pyplot as plt\n",
    "import time\n",
    "import datetime\n",
    "import numpy as np"
   ]
  },
  {
   "cell_type": "code",
   "execution_count": 40,
   "metadata": {},
   "outputs": [],
   "source": [
    "class IsingGap(object):\n",
    "    def_inputs={}\n",
    "    def __init__(self,inputs):\n",
    "        self.inputs=inputs\n",
    "     \n",
    "    def iterate_parameter(self, par, par_range, input_ps):\n",
    "        if type(par_range)==int:\n",
    "            par_range=[par_range]\n",
    "        start_time=time.time()\n",
    "        start_cpu=time.clock()\n",
    "        sig_set=np.arange(0.5,0.85,0.05)\n",
    "        eps_set=np.arange(1.0,2.2,0.2)\n",
    "        bootstrap.cutoff=1e-10\n",
    "        for x in par_range:\n",
    "            input_ps[par]=x\n",
    "            tab1=bootstrap.ConformalBlockTable(input_ps['dim'],input_ps['kmax'],input_ps['lmax'],input_ps['mmax'],input_ps['nmax'])\n",
    "            tab2=bootstrap.ConvolvedBlockTable(tab1)\n",
    "            #Do we need dim,tab2,sig_set,eps_set as inputs here? Aren't they local variables?\n",
    "            self.plot_grid(x,input_ps['dim'],tab2,sig_set,eps_set)\n",
    "        end_time=time.time()\n",
    "        end_cpu=time.clock()\n",
    "        run_time=time.strftime(\"%H:%M:%S\",time.gmtime(end_time-start_time))\n",
    "        cpu_time=time.strftime(\"%H:%M:%S\",time.gmtime(end_cpu-start_cpu))\n",
    "        print(\"Run time \"+run_time, \"CPU time \"+cpu_time)\n",
    "\n",
    "    def plot_grid(self, parameter, dimension, table, sig_range, eps_range):\n",
    "        start_time=time.time()\n",
    "        start_cpu=time.clock()\n",
    "        allowed_sig=[]\n",
    "        allowed_eps=[]\n",
    "        disallowed_sig=[]\n",
    "        disallowed_eps=[]\n",
    "        for sig in sig_range:\n",
    "            for eps in eps_range:\n",
    "                sdp=bootstrap.SDP(sig,table)\n",
    "                sdp.set_bound(0,float(dimension))\n",
    "                sdp.add_point(0,eps)\n",
    "                result=sdp.iterate()\n",
    "                if result:\n",
    "                    allowed_sig.append(sig)\n",
    "                    allowed_eps.append(eps)\n",
    "                else:\n",
    "                    disallowed_sig.append(sig)\n",
    "                    disallowed_eps.append(eps)\n",
    "        end_time=time.time()\n",
    "        end_cpu=time.clock()\n",
    "        run_time=time.strftime(\"%H:%M:%S\",time.gmtime(end_time-start_time))\n",
    "        cpu_time=time.strftime(\"%H:%M:%S\",time.gmtime(end_cpu-start_cpu))\n",
    "        plt.plot(allowed_sig,allowed_eps,'r+')\n",
    "        plt.plot(disallowed_sig,disallowed_eps,'b+')\n",
    "        plt.title(\"n_max=\"+str(parameter)+\". Time Taken: \"+run_time+\". CPU Time: \"+cpu_time)\n",
    "        plt.show()"
   ]
  },
  {
   "cell_type": "code",
   "execution_count": 41,
   "metadata": {
    "collapsed": true
   },
   "outputs": [],
   "source": [
    "#Define the default input parameter dictionary.\n",
    "def_inputs={}\n",
    "def_inputs['dim']=3\n",
    "def_inputs['kmax']=7\n",
    "def_inputs['lmax']=7\n",
    "def_inputs['nmax']=4\n",
    "def_inputs['mmax']=2"
   ]
  },
  {
   "cell_type": "code",
   "execution_count": 42,
   "metadata": {
    "collapsed": true
   },
   "outputs": [],
   "source": [
    "#Instantiate an IsingGap object\n",
    "ising_gap=IsingGap(def_inputs)"
   ]
  },
  {
   "cell_type": "code",
   "execution_count": 43,
   "metadata": {},
   "outputs": [],
   "source": [
    "#Use its methods to plot grids using iterate_parameter\n",
    "n_range=np.arange(1,4,1)"
   ]
  },
  {
   "cell_type": "code",
   "execution_count": 44,
   "metadata": {},
   "outputs": [
    {
     "name": "stderr",
     "output_type": "stream",
     "text": [
      "/Users/MatthewDowens/Dropbox/PhD/bootstrap/pycftboot/bootstrap.py:952: RuntimeWarning: invalid value encountered in subtract\n",
      "  product *= x - (p - shift)\n",
      "/Users/MatthewDowens/Dropbox/PhD/bootstrap/pycftboot/bootstrap.py:953: RuntimeWarning: invalid value encountered in add\n",
      "  return (base ** (x + shift)) / product\n"
     ]
    },
    {
     "data": {
      "image/png": "[encoded data removed]",
      "text/plain": [
       "<Figure size 432x288 with 1 Axes>"
      ]
     },
     "metadata": {},
     "output_type": "display_data"
    },
    {
     "data": {
      "image/png": "[encoded data removed]",
      "text/plain": [
       "<Figure size 432x288 with 1 Axes>"
      ]
     },
     "metadata": {},
     "output_type": "display_data"
    },
    {
     "data": {
      "image/png": "[encoded data removed]",
      "text/plain": [
       "<Figure size 432x288 with 1 Axes>"
      ]
     },
     "metadata": {},
     "output_type": "display_data"
    },
    {
     "name": "stdout",
     "output_type": "stream",
     "text": [
      "Run time 00:02:14 CPU time 00:01:23\n"
     ]
    }
   ],
   "source": [
    "ising_gap.iterate_parameter('nmax',n_range,ising_gap.inputs)"
   ]
  }
 ],
 "metadata": {
  "kernelspec": {
   "display_name": "Python 3",
   "language": "python",
   "name": "python3"
  },
  "language_info": {
   "codemirror_mode": {
    "name": "ipython",
    "version": 3
   },
   "file_extension": ".py",
   "mimetype": "text/x-python",
   "name": "python",
   "nbconvert_exporter": "python",
   "pygments_lexer": "ipython3",
   "version": "3.6.3"
  }
 },
 "nbformat": 4,
 "nbformat_minor": 2
}
