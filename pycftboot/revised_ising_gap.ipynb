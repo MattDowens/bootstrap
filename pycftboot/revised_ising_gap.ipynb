{
 "cells": [
  {
   "cell_type": "code",
   "execution_count": 9,
   "metadata": {
    "collapsed": true
   },
   "outputs": [],
   "source": [
    "import bootstrap\n",
    "import matplotlib.pyplot as plt\n",
    "import time\n",
    "import datetime\n",
    "import numpy as np\n",
    "from matplotlib.backends.backend_pdf import PdfPages"
   ]
  },
  {
   "cell_type": "code",
   "execution_count": 10,
   "metadata": {
    "collapsed": true
   },
   "outputs": [],
   "source": [
    "class Grid(object):\n",
    "    def __init__(self, dim, kmax, lmax, mmax, nmax, allowed_points, disallowed_points):\n",
    "        self.dim = dim\n",
    "        self.kmax = kmax\n",
    "        self.lmax = lmax\n",
    "        self.mmax = mmax\n",
    "        self.nmax = nmax\n",
    "        self.allowed_points = allowed_points\n",
    "        self.disallowed_points = disallowed_points"
   ]
  },
  {
   "cell_type": "code",
   "execution_count": 31,
   "metadata": {},
   "outputs": [],
   "source": [
    "class IsingGap(object):\n",
    "    bootstrap.cutoff=1e-10\n",
    "    def __init__(self, from_file = False, file_name = 'name', gap = 3, sig_values = np.arange(0.5,0.85,0.05).tolist(), eps_values = np.arange(1.0,2.2,0.2).tolist()):\n",
    "        if from_file == True:\n",
    "            self.recover_table(file_name)\n",
    "        else:\n",
    "            self.default_inputs = {'dim': 3, 'kmax': 7, 'lmax': 7, 'mmax': 2, 'nmax': 4}\n",
    "            self.inputs = self.default_inputs\n",
    "            self.gap = gap\n",
    "            self.sig_values = sig_values\n",
    "            self.eps_values = eps_values\n",
    "            self.table = []\n",
    "        \n",
    "    def determine_grid(self):\n",
    "        #key = [self.inputs['dim'], self.inputs['kmax'], self.inputs['lmax'], self.inputs['mmax'], self.inputs['nmax']]\n",
    "        key = list(self.inputs.values())\n",
    "        tab1 = bootstrap.ConformalBlockTable(*key)\n",
    "        tab2 = bootstrap.ConvolvedBlockTable(tab1)\n",
    "        \n",
    "        # Instantiate a Grid object with appropriate input values.\n",
    "        grid=Grid(*key, [], [])\n",
    "        \n",
    "        for sig in self.sig_values:\n",
    "            for eps in self.eps_values: \n",
    "                \n",
    "                sdp = bootstrap.SDP(sig,tab2)\n",
    "                sdp.set_bound(0,float(self.gap))\n",
    "                sdp.add_point(0,eps)\n",
    "                result = sdp.iterate()\n",
    "                \n",
    "                if result:\n",
    "                    grid.allowed_points.append((sig, eps))\n",
    "                else:\n",
    "                    grid.disallowed_points.append((sig,eps))\n",
    "                    \n",
    "        # Now append this grid object to the IsingGap table.\n",
    "        # Note we will need to implement a look up table to retrieve desired data.\n",
    "        self.table.append(grid)\n",
    "        \n",
    "    def iterate_parameter(self, par, par_range):\n",
    "        if type(par_range) == int:\n",
    "            par_range = [par_range]\n",
    "        for x in par_range:\n",
    "            self.inputs[par] = x\n",
    "            if self.get_grid_index(*list(self.inputs.values())) != -1:\n",
    "                continue\n",
    "            self.determine_grid()\n",
    "        self.inputs = self.default_inputs\n",
    "                    \n",
    "    def save_table_to_file(self, name):\n",
    "        with open(name + \".py\", 'w') as file:\n",
    "            file.write(\"self.default_inputs = \" + self.default_inputs.__str__() + \"\\n\")\n",
    "            file.write(\"self.inputs = \" + self.inputs.__str__() + \"\\n\")\n",
    "            file.write(\"self.gap = \" + self.gap.__str__() + \"\\n\")\n",
    "            file.write(\"self.sig_values = \" + self.sig_values.__str__() + \"\\n\")\n",
    "            file.write(\"self.eps_values = \" + self.eps_values.__str__() + \"\\n\")\n",
    "            file.write(\"self.table = []\\n\")\n",
    "            for grid in self.table:\n",
    "                file.write(\"dim = \" + str(grid.dim) + \"\\n\")\n",
    "                file.write(\"kmax = \" + str(grid.kmax) + \"\\n\")\n",
    "                file.write(\"lmax = \" + str(grid.lmax) + \"\\n\")\n",
    "                file.write(\"mmax = \" + str(grid.mmax) + \"\\n\")\n",
    "                file.write(\"nmax = \" + str(grid.nmax) + \"\\n\")\n",
    "                file.write(\"allowed_points = \" + str(grid.allowed_points) + \"\\n\")\n",
    "                file.write(\"disallowed_points = \" + str(grid.disallowed_points) + \"\\n\")\n",
    "                file.write(\"self.table.append(Grid(dim, kmax, lmax, mmax, nmax, allowed_points, disallowed_points))\" + \"\\n\")\n",
    "\n",
    "    def recover_table(self, file_name):\n",
    "        exec(open(file_name + \".py\").read())\n",
    "\n",
    "    def get_grid_index(self, dim, kmax, lmax, mmax, nmax):\n",
    "        for i in range(0, len(self.table)):\n",
    "            if self.table[i].dim == dim and self.table[i].kmax == kmax and self.table[i].lmax == lmax and self.table[i].mmax == mmax and self.table[i].nmax == nmax:\n",
    "                return i\n",
    "        return -1\n"
   ]
  },
  {
   "cell_type": "code",
   "execution_count": 34,
   "metadata": {
    "scrolled": false
   },
   "outputs": [],
   "source": [
    "n_range=np.arange(1,4,1)\n",
    "ising_gap.iterate_parameter('nmax',n_range)"
   ]
  },
  {
   "cell_type": "code",
   "execution_count": 35,
   "metadata": {},
   "outputs": [
    {
     "data": {
      "text/plain": [
       "[<__main__.Grid at 0x112af7c18>,\n",
       " <__main__.Grid at 0x112a3c198>,\n",
       " <__main__.Grid at 0x1129a6710>]"
      ]
     },
     "execution_count": 35,
     "metadata": {},
     "output_type": "execute_result"
    }
   ],
   "source": [
    "ising_gap.table"
   ]
  },
  {
   "cell_type": "code",
   "execution_count": 36,
   "metadata": {
    "collapsed": true
   },
   "outputs": [],
   "source": [
    "ising_gap.save_table_to_file('first_save')"
   ]
  },
  {
   "cell_type": "code",
   "execution_count": null,
   "metadata": {
    "collapsed": true
   },
   "outputs": [],
   "source": [
    "ising_gap=IsingGap(3.0, sig_set, eps_set)"
   ]
  },
  {
   "cell_type": "code",
   "execution_count": null,
   "metadata": {
    "collapsed": true
   },
   "outputs": [],
   "source": [
    "ising_gap.table"
   ]
  },
  {
   "cell_type": "code",
   "execution_count": null,
   "metadata": {
    "collapsed": true
   },
   "outputs": [],
   "source": [
    "ising_gap.recover_table('first_save')"
   ]
  },
  {
   "cell_type": "code",
   "execution_count": 37,
   "metadata": {
    "collapsed": true
   },
   "outputs": [],
   "source": [
    "ising_gap=IsingGap()"
   ]
  },
  {
   "cell_type": "code",
   "execution_count": 38,
   "metadata": {},
   "outputs": [
    {
     "data": {
      "text/plain": [
       "[]"
      ]
     },
     "execution_count": 38,
     "metadata": {},
     "output_type": "execute_result"
    }
   ],
   "source": [
    "ising_gap.table"
   ]
  },
  {
   "cell_type": "code",
   "execution_count": 39,
   "metadata": {
    "collapsed": true
   },
   "outputs": [],
   "source": [
    "ising_gap=IsingGap(True, 'first_save')"
   ]
  },
  {
   "cell_type": "code",
   "execution_count": 40,
   "metadata": {},
   "outputs": [
    {
     "data": {
      "text/plain": [
       "[<__main__.Grid at 0x1129a6da0>,\n",
       " <__main__.Grid at 0x1129a6b70>,\n",
       " <__main__.Grid at 0x1129a66d8>]"
      ]
     },
     "execution_count": 40,
     "metadata": {},
     "output_type": "execute_result"
    }
   ],
   "source": [
    "ising_gap.table"
   ]
  },
  {
   "cell_type": "code",
   "execution_count": null,
   "metadata": {
    "collapsed": true
   },
   "outputs": [],
   "source": []
  }
 ],
 "metadata": {
  "kernelspec": {
   "display_name": "Python 3",
   "language": "python",
   "name": "python3"
  },
  "language_info": {
   "codemirror_mode": {
    "name": "ipython",
    "version": 3
   },
   "file_extension": ".py",
   "mimetype": "text/x-python",
   "name": "python",
   "nbconvert_exporter": "python",
   "pygments_lexer": "ipython3",
   "version": "3.6.3"
  }
 },
 "nbformat": 4,
 "nbformat_minor": 2
}
