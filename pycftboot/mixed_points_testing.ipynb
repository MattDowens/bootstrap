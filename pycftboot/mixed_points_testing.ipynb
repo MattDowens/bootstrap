{
 "cells": [
  {
   "cell_type": "code",
   "execution_count": 1,
   "metadata": {
    "collapsed": true
   },
   "outputs": [],
   "source": [
    "import bootstrap\n",
    "import matplotlib.pyplot as plt\n",
    "import time\n",
    "import datetime\n",
    "import numpy as np\n",
    "from matplotlib.backends.backend_pdf import PdfPages\n",
    "from ising_class import *"
   ]
  },
  {
   "cell_type": "code",
   "execution_count": 4,
   "metadata": {
    "collapsed": true
   },
   "outputs": [],
   "source": [
    "import sys"
   ]
  },
  {
   "cell_type": "code",
   "execution_count": 5,
   "metadata": {},
   "outputs": [
    {
     "data": {
      "text/plain": [
       "'3.6.3 |Anaconda, Inc.| (default, Oct  6 2017, 12:04:38) \\n[GCC 4.2.1 Compatible Clang 4.0.1 (tags/RELEASE_401/final)]'"
      ]
     },
     "execution_count": 5,
     "metadata": {},
     "output_type": "execute_result"
    }
   ],
   "source": [
    "sys.version"
   ]
  },
  {
   "cell_type": "code",
   "execution_count": null,
   "metadata": {
    "collapsed": true
   },
   "outputs": [],
   "source": [
    "kmax = [7,8]\n",
    "lmax = [7,8]\n",
    "mmax = np.arange(2, 21, 1).tolist()\n",
    "nmax = np.arange(2, 21, 1).tolist()"
   ]
  },
  {
   "cell_type": "code",
   "execution_count": null,
   "metadata": {
    "collapsed": true
   },
   "outputs": [],
   "source": [
    "kmax = 8\n",
    "lmax = 8\n",
    "mmax = 3\n",
    "nmax = 3"
   ]
  },
  {
   "cell_type": "code",
   "execution_count": 2,
   "metadata": {
    "collapsed": true
   },
   "outputs": [],
   "source": [
    "mixed_gaps = MixedCorrelator(\"mixed_test\")"
   ]
  },
  {
   "cell_type": "code",
   "execution_count": 3,
   "metadata": {},
   "outputs": [
    {
     "data": {
      "text/plain": [
       "0"
      ]
     },
     "execution_count": 3,
     "metadata": {},
     "output_type": "execute_result"
    }
   ],
   "source": [
    "len(mixed_gaps.table)"
   ]
  },
  {
   "cell_type": "code",
   "execution_count": 12,
   "metadata": {
    "collapsed": true
   },
   "outputs": [],
   "source": [
    "sig = 0.5\n",
    "eps = 1.0\n",
    "key = [3,3,3,3]"
   ]
  },
  {
   "cell_type": "code",
   "execution_count": 13,
   "metadata": {},
   "outputs": [
    {
     "name": "stdout",
     "output_type": "stream",
     "text": [
      "Crossing equations have too many derivative components\n"
     ]
    }
   ],
   "source": [
    "start_time=time.time()\n",
    "start_cpu=time.clock()\n",
    "\n",
    "grid = Grid(*(key + [[], [], 0, 0]))\n",
    "g_tab1 = bootstrap.ConformalBlockTable(mixed_gaps.dim, *key)\n",
    "g_tab2 = bootstrap.ConformalBlockTable(mixed_gaps.dim, *(key + [eps-sig, sig-eps, \"odd_spins = True\"]))\n",
    "g_tab3 = bootstrap.ConformalBlockTable(mixed_gaps.dim, *(key + [sig-eps, sig-eps, \"odd_spins = True\"]))\n",
    "f_tab1a = bootstrap.ConvolvedBlockTable(g_tab1)\n",
    "f_tab1s = bootstrap.ConvolvedBlockTable(g_tab1, symmetric = True)\n",
    "f_tab2a = bootstrap.ConvolvedBlockTable(g_tab2)\n",
    "f_tab2s = bootstrap.ConvolvedBlockTable(g_tab2, symmetric = True)\n",
    "f_tab3 = bootstrap.ConvolvedBlockTable(g_tab3)\n",
    "tab_list = [f_tab1a, f_tab1s, f_tab2a, f_tab2s, f_tab3]\n",
    "\n",
    "vec3 = [[0, 0, 0, 0], [0, 0, 0, 0], [1, 4, 1, 0], [-1, 2, 0, 0], [1, 3, 0, 0]]\n",
    "vec2 = [[0, 0, 0, 0], [0, 0, 0, 0], [1, 4, 1, 0], [1, 2, 0, 0], [-1, 3, 0, 0]]\n",
    "\n",
    "m1 = [[[1, 0, 0, 0], [0, 0, 0, 0]], [[0, 0, 0, 0], [0, 0, 0, 0]]]\n",
    "m2 = [[[0, 0, 0, 0], [0, 0, 0, 0]], [[0, 0, 0, 0], [1, 0, 1, 1]]]\n",
    "m3 = [[[0, 0, 0, 0], [0, 0, 0, 0]], [[0, 0, 0, 0], [0, 0, 0, 0]]]\n",
    "m4 = [[[0, 0, 0, 0], [0.5, 0, 0, 1]], [[0.5, 0, 0, 1], [0, 0, 0, 0]]]\n",
    "m5 = [[[0, 1, 0, 0], [0.5, 1, 0, 1]], [[0.5, 1, 0, 1], [0, 1, 0, 0]]]\n",
    "vec1 = [m1, m2, m3, m4, m5]\n",
    "\n",
    "info = [[vec1, 0, \"z2-even-l-even\"], [vec2, 0, \"z2-odd-l-even\"], [vec3, 1, \"z2-odd-l-odd\"]]\n",
    "\n",
    "sdp = bootstrap.SDP([sig, eps], tab_list, vector_types = info)\n",
    "sdp.set_bound([0, \"z2-even-l-even\"], mixed_gaps.dim)\n",
    "sdp.set_bound([0, \"z2-odd-l-even\"], mixed_gaps.dim)\n",
    "\n",
    "sdp.add_point([0, \"z2-even-l-even\"], eps)\n",
    "sdp.add_point([0, \"z2-odd-l-even\"], sig)\n",
    "\n",
    "sdp.set_option(\"maxThreads\", 16)\n",
    "sdp.set_option(\"dualErrorThreshold\", 1e-15)\n",
    "\n",
    "result = sdp.iterate()\n",
    "if result:\n",
    "\tgrid.allowed_points.append((sig, eps))\n",
    "else:\n",
    "\tgrid.disallowed_points.append((sig, eps))\n",
    "\n",
    "end_time=time.time()\n",
    "end_cpu=time.clock()\n",
    "run_time = datetime.timedelta(seconds = int(end_time - start_time))\n",
    "cpu_time = datetime.timedelta(seconds = int(end_cpu - start_cpu))\n",
    "\n",
    "grid.run_time = run_time\n",
    "grid.cpu_time = cpu_time\n",
    "mixed_gaps.table.append(grid)"
   ]
  },
  {
   "cell_type": "code",
   "execution_count": null,
   "metadata": {
    "collapsed": true
   },
   "outputs": [],
   "source": [
    "single_correlator = SingleCorrelator(\"single_test\")"
   ]
  },
  {
   "cell_type": "code",
   "execution_count": null,
   "metadata": {
    "collapsed": true,
    "scrolled": true
   },
   "outputs": [],
   "source": [
    "single_correlator.determine_grid([3,3,3,3])"
   ]
  },
  {
   "cell_type": "code",
   "execution_count": null,
   "metadata": {
    "collapsed": true
   },
   "outputs": [],
   "source": [
    "keys = ising_gap.generate_keys(kmax, lmax, mmax, nmax);"
   ]
  },
  {
   "cell_type": "code",
   "execution_count": null,
   "metadata": {
    "collapsed": true
   },
   "outputs": [],
   "source": [
    "ising_gap.plot_grids(ising_gap.generate_keys(kmax, lmax, mmax, nmax), 'iterate_constraints_plots')"
   ]
  },
  {
   "cell_type": "code",
   "execution_count": null,
   "metadata": {
    "collapsed": true
   },
   "outputs": [],
   "source": [
    "ising_gap.save_to_file(\"test_save\")"
   ]
  },
  {
   "cell_type": "code",
   "execution_count": null,
   "metadata": {
    "collapsed": true
   },
   "outputs": [],
   "source": [
    "ising_gap.plot_changes(ising_gap.generate_keys(kmax, lmax, mmax, nmax), \"test_changes\")"
   ]
  },
  {
   "cell_type": "code",
   "execution_count": null,
   "metadata": {
    "collapsed": true,
    "scrolled": true
   },
   "outputs": [],
   "source": [
    "sorted_keys = sorted(keys, key = lambda tup : (tup[0], tup[1], tup[2] + tup[3]))\n",
    "sorted_keys"
   ]
  },
  {
   "cell_type": "code",
   "execution_count": null,
   "metadata": {
    "collapsed": true
   },
   "outputs": [],
   "source": [
    "sorted(keys, key=lambda tup: tup[1])"
   ]
  },
  {
   "cell_type": "code",
   "execution_count": null,
   "metadata": {
    "collapsed": true
   },
   "outputs": [],
   "source": [
    "!ssh v1mdowen@student.ph.ed.ac.uk"
   ]
  },
  {
   "cell_type": "code",
   "execution_count": null,
   "metadata": {
    "collapsed": true
   },
   "outputs": [],
   "source": [
    "!1!ptfwtml"
   ]
  },
  {
   "cell_type": "code",
   "execution_count": null,
   "metadata": {
    "collapsed": true
   },
   "outputs": [],
   "source": []
  }
 ],
 "metadata": {
  "kernelspec": {
   "display_name": "Python 3",
   "language": "python",
   "name": "python3"
  },
  "language_info": {
   "codemirror_mode": {
    "name": "ipython",
    "version": 3
   },
   "file_extension": ".py",
   "mimetype": "text/x-python",
   "name": "python",
   "nbconvert_exporter": "python",
   "pygments_lexer": "ipython3",
   "version": "3.6.3"
  }
 },
 "nbformat": 4,
 "nbformat_minor": 2
}
