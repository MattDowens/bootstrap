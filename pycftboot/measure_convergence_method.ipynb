{
 "cells": [
  {
   "cell_type": "code",
   "execution_count": 1,
   "metadata": {
    "collapsed": true
   },
   "outputs": [],
   "source": [
    "import bootstrap\n",
    "import matplotlib.pyplot as plt\n",
    "import time\n",
    "import datetime\n",
    "import numpy as np\n",
    "from matplotlib.backends.backend_pdf import PdfPages\n",
    "from revised_ising_gap import *"
   ]
  },
  {
   "cell_type": "code",
   "execution_count": 2,
   "metadata": {},
   "outputs": [],
   "source": [
    "ising_gap = IsingGap()"
   ]
  },
  {
   "cell_type": "code",
   "execution_count": 6,
   "metadata": {},
   "outputs": [
    {
     "data": {
      "text/plain": [
       "16"
      ]
     },
     "execution_count": 6,
     "metadata": {},
     "output_type": "execute_result"
    }
   ],
   "source": [
    "len(ising_gap.table)"
   ]
  },
  {
   "cell_type": "code",
   "execution_count": 4,
   "metadata": {
    "collapsed": true
   },
   "outputs": [],
   "source": [
    "krange = [7,8]\n",
    "lrange = [7,8]\n",
    "mrange = [2,3]\n",
    "nrange = [2,3]"
   ]
  },
  {
   "cell_type": "code",
   "execution_count": 5,
   "metadata": {},
   "outputs": [],
   "source": [
    "ising_gap.iterate_parameters(krange, lrange, mrange, nrange)"
   ]
  },
  {
   "cell_type": "code",
   "execution_count": 18,
   "metadata": {
    "collapsed": true
   },
   "outputs": [],
   "source": [
    "key_of_grid = [7,7,2,2]"
   ]
  },
  {
   "cell_type": "code",
   "execution_count": 12,
   "metadata": {},
   "outputs": [],
   "source": [
    "def convergence_factor(key):\n",
    "#   key = ising_gap.generate_keys(grid.kmax, grid.lmax, grid.mmax, grid.nmax)[0]\n",
    "    grid = ising_gap.table[ising_gap.get_grid_index(key)]\n",
    "    grid_value = abs(len(grid.allowed_points) - len(grid.disallowed_points))\n",
    "\n",
    "    convergence = 0\n",
    "    for i in range(len(key)):\n",
    "        key[i] += 1\n",
    "        if ising_gap.get_grid_index(key) == -1:\n",
    "            print (\"Can't calculate convergence factor. The required grids have not been calculated.\")\n",
    "            break\n",
    "        else:\n",
    "            next_grid = ising_gap.table[ising_gap.get_grid_index(key)]\n",
    "            next_grid_value = abs(len(next_grid.allowed_points) - len(next_grid.disallowed_points))\n",
    "            convergence += abs(grid_value - next_grid_value)\n",
    "        key[i] -= 1\n",
    "    convergence /= len(key)\n",
    "\n",
    "    return convergence"
   ]
  },
  {
   "cell_type": "code",
   "execution_count": 20,
   "metadata": {},
   "outputs": [
    {
     "data": {
      "text/plain": [
       "3.0"
      ]
     },
     "execution_count": 20,
     "metadata": {},
     "output_type": "execute_result"
    }
   ],
   "source": [
    "convergence_factor(key_of_grid)"
   ]
  },
  {
   "cell_type": "code",
   "execution_count": 7,
   "metadata": {
    "collapsed": true
   },
   "outputs": [],
   "source": [
    "ising_gap.save_to_file('new_save')"
   ]
  },
  {
   "cell_type": "code",
   "execution_count": 22,
   "metadata": {},
   "outputs": [],
   "source": [
    "ising_gap.plot_grids(ising_gap.generate_keys(krange, lrange, mrange, nrange), 'new_save_plots')"
   ]
  },
  {
   "cell_type": "code",
   "execution_count": null,
   "metadata": {
    "collapsed": true
   },
   "outputs": [],
   "source": []
  }
 ],
 "metadata": {
  "kernelspec": {
   "display_name": "Python 3",
   "language": "python",
   "name": "python3"
  },
  "language_info": {
   "codemirror_mode": {
    "name": "ipython",
    "version": 3
   },
   "file_extension": ".py",
   "mimetype": "text/x-python",
   "name": "python",
   "nbconvert_exporter": "python",
   "pygments_lexer": "ipython3",
   "version": "3.6.3"
  }
 },
 "nbformat": 4,
 "nbformat_minor": 2
}
